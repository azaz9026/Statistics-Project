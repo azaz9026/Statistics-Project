{
 "cells": [
  {
   "cell_type": "markdown",
   "metadata": {},
   "source": [
    "# Inferential Statistics"
   ]
  },
  {
   "cell_type": "code",
   "execution_count": 4,
   "metadata": {},
   "outputs": [
    {
     "name": "stderr",
     "output_type": "stream",
     "text": [
      "C:\\Users\\mdaza\\AppData\\Local\\Temp\\ipykernel_20764\\555797462.py:1: DeprecationWarning: \n",
      "Pyarrow will become a required dependency of pandas in the next major release of pandas (pandas 3.0),\n",
      "(to allow more performant data types, such as the Arrow string type, and better interoperability with other libraries)\n",
      "but was not found to be installed on your system.\n",
      "If this would cause problems for you,\n",
      "please provide us feedback at https://github.com/pandas-dev/pandas/issues/54466\n",
      "        \n",
      "  import pandas as pd\n"
     ]
    }
   ],
   "source": [
    "import pandas as pd\n",
    "import numpy as np\n",
    "import matplotlib.pyplot as plt\n",
    "import seaborn as sns"
   ]
  },
  {
   "cell_type": "markdown",
   "metadata": {},
   "source": [
    "# Poputation dataset"
   ]
  },
  {
   "cell_type": "code",
   "execution_count": 5,
   "metadata": {},
   "outputs": [
    {
     "data": {
      "text/plain": [
       "array([17, 19, 16, 19, 19, 15, 10, 18, 19, 18, 12, 14, 15, 19, 10, 14, 15,\n",
       "       12, 16, 15, 18, 12, 19, 19, 18, 15, 12, 12, 17, 10, 15, 19, 10, 16,\n",
       "       19, 15, 19, 19, 18, 10, 13, 18, 11, 14, 13, 17, 17, 13, 19, 16])"
      ]
     },
     "execution_count": 5,
     "metadata": {},
     "output_type": "execute_result"
    }
   ],
   "source": [
    "poputation = np.random.randint(10,20,50)\n",
    "poputation"
   ]
  },
  {
   "cell_type": "code",
   "execution_count": 6,
   "metadata": {},
   "outputs": [
    {
     "data": {
      "text/plain": [
       "50"
      ]
     },
     "execution_count": 6,
     "metadata": {},
     "output_type": "execute_result"
    }
   ],
   "source": [
    "len(poputation)"
   ]
  },
  {
   "cell_type": "code",
   "execution_count": 7,
   "metadata": {},
   "outputs": [
    {
     "name": "stdout",
     "output_type": "stream",
     "text": [
      "the mean of poputation :-  15\n",
      "the median of poputation :-  16.0\n",
      "the mode of poputation :-  19\n"
     ]
    }
   ],
   "source": [
    "import statistics as st\n",
    "\n",
    "print(f'the mean of poputation :- ' , st.mean(poputation))\n",
    "print(f'the median of poputation :- ', st.median(poputation))\n",
    "print(f'the mode of poputation :- ', st.mode(poputation))"
   ]
  },
  {
   "cell_type": "markdown",
   "metadata": {},
   "source": [
    "# Sample dataset"
   ]
  },
  {
   "cell_type": "code",
   "execution_count": 8,
   "metadata": {},
   "outputs": [
    {
     "name": "stdout",
     "output_type": "stream",
     "text": [
      "the mean of sample :-  15\n",
      "the median of sample :-  16.0\n",
      "the mode of sample :-  18\n"
     ]
    }
   ],
   "source": [
    "sample = np.random.choice(poputation , 20)\n",
    "\n",
    "print(f'the mean of sample :- ' , st.mean(sample))\n",
    "print(f'the median of sample :- ', st.median(sample))\n",
    "print(f'the mode of sample :- ', st.mode(sample))"
   ]
  },
  {
   "cell_type": "markdown",
   "metadata": {},
   "source": [
    "# Mean of All_sample"
   ]
  },
  {
   "cell_type": "code",
   "execution_count": 9,
   "metadata": {},
   "outputs": [],
   "source": [
    "sample1 = np.random.choice(poputation , 20)\n",
    "sample2 = np.random.choice(poputation , 20)\n",
    "sample3 = np.random.choice(poputation , 20)\n",
    "sample4 = np.random.choice(poputation , 20)\n"
   ]
  },
  {
   "cell_type": "code",
   "execution_count": 10,
   "metadata": {},
   "outputs": [
    {
     "data": {
      "text/plain": [
       "array([13, 10, 12, 16, 18, 15, 16, 19, 19, 19, 12, 14, 12, 16, 16, 16, 15,\n",
       "       10, 10, 15])"
      ]
     },
     "execution_count": 10,
     "metadata": {},
     "output_type": "execute_result"
    }
   ],
   "source": [
    "sample1"
   ]
  },
  {
   "cell_type": "code",
   "execution_count": 11,
   "metadata": {},
   "outputs": [
    {
     "data": {
      "text/plain": [
       "array([10, 18, 19, 13, 13, 12, 10, 16, 17, 15, 15, 14, 11, 10, 16, 15, 19,\n",
       "       18, 15, 15])"
      ]
     },
     "execution_count": 11,
     "metadata": {},
     "output_type": "execute_result"
    }
   ],
   "source": [
    "sample4"
   ]
  },
  {
   "cell_type": "code",
   "execution_count": 12,
   "metadata": {},
   "outputs": [],
   "source": [
    "mean_of_sample = []\n",
    "\n",
    "all_sample = [sample1 , sample2 , sample3 , sample4]\n",
    "\n",
    "for i in all_sample:\n",
    "    mean_of_sample.append(np.mean(i))"
   ]
  },
  {
   "cell_type": "code",
   "execution_count": 13,
   "metadata": {},
   "outputs": [
    {
     "data": {
      "text/plain": [
       "[14.65, 16.75, 14.9, 14.55]"
      ]
     },
     "execution_count": 13,
     "metadata": {},
     "output_type": "execute_result"
    }
   ],
   "source": [
    "mean_of_sample"
   ]
  },
  {
   "cell_type": "markdown",
   "metadata": {},
   "source": [
    "# Central limit theorem\n",
    "\n",
    "***central limit theorem >> the sample mean distribution will approximated to normal  distribution given sample size sample size  >= 30 and no of sample are sufficiently large enough***"
   ]
  },
  {
   "cell_type": "code",
   "execution_count": 14,
   "metadata": {},
   "outputs": [],
   "source": [
    "population = np.random.binomial(10 , 0.5 , 100000)   # this is no trials or experiment"
   ]
  },
  {
   "cell_type": "code",
   "execution_count": 15,
   "metadata": {},
   "outputs": [
    {
     "data": {
      "text/plain": [
       "100000"
      ]
     },
     "execution_count": 15,
     "metadata": {},
     "output_type": "execute_result"
    }
   ],
   "source": [
    "len(population)"
   ]
  },
  {
   "cell_type": "code",
   "execution_count": 16,
   "metadata": {},
   "outputs": [
    {
     "name": "stderr",
     "output_type": "stream",
     "text": [
      "C:\\Users\\mdaza\\AppData\\Local\\Temp\\ipykernel_20764\\2958836585.py:1: UserWarning: \n",
      "\n",
      "`distplot` is a deprecated function and will be removed in seaborn v0.14.0.\n",
      "\n",
      "Please adapt your code to use either `displot` (a figure-level function with\n",
      "similar flexibility) or `histplot` (an axes-level function for histograms).\n",
      "\n",
      "For a guide to updating your code to use the new functions, please see\n",
      "https://gist.github.com/mwaskom/de44147ed2974457ad6372750bbe5751\n",
      "\n",
      "  sns.distplot(population)\n",
      "c:\\Users\\mdaza\\AppData\\Local\\Programs\\Python\\Python310\\lib\\site-packages\\seaborn\\_oldcore.py:1119: FutureWarning: use_inf_as_na option is deprecated and will be removed in a future version. Convert inf values to NaN before operating instead.\n",
      "  with pd.option_context('mode.use_inf_as_na', True):\n"
     ]
    },
    {
     "data": {
      "text/plain": [
       "<Axes: ylabel='Density'>"
      ]
     },
     "execution_count": 16,
     "metadata": {},
     "output_type": "execute_result"
    },
    {
     "data": {
      "image/png": "[encoded data removed]",
      "text/plain": [
       "<Figure size 640x480 with 1 Axes>"
      ]
     },
     "metadata": {},
     "output_type": "display_data"
    }
   ],
   "source": [
    "sns.distplot(population)"
   ]
  },
  {
   "cell_type": "code",
   "execution_count": 17,
   "metadata": {},
   "outputs": [
    {
     "data": {
      "text/plain": [
       "3000"
      ]
     },
     "execution_count": 17,
     "metadata": {},
     "output_type": "execute_result"
    }
   ],
   "source": [
    "sample_size = int(len(population)*0.030)\n",
    "sample_size"
   ]
  },
  {
   "cell_type": "code",
   "execution_count": 18,
   "metadata": {},
   "outputs": [],
   "source": [
    "mean_of_samples = []\n",
    "\n",
    "for i in range(1 , 1000):\n",
    "    sample = np.random.choice(population, size=sample_size)\n",
    "    mean_of_samples.append(np.mean(sample))"
   ]
  },
  {
   "cell_type": "code",
   "execution_count": 19,
   "metadata": {},
   "outputs": [
    {
     "data": {
      "text/plain": [
       "[5.028666666666667,\n",
       " 4.978666666666666,\n",
       " 5.014,\n",
       " 5.004333333333333,\n",
       " 5.001333333333333,\n",
       " 5.03,\n",
       " 5.021333333333334,\n",
       " 5.014333333333333,\n",
       " 4.986666666666666,\n",
       " 4.982333333333333,\n",
       " 4.999,\n",
       " 5.051,\n",
       " 5.016333333333334,\n",
       " 5.0343333333333335,\n",
       " 5.013,\n",
       " 5.026,\n",
       " 5.008666666666667,\n",
       " 5.024666666666667,\n",
       " 5.006333333333333,\n",
       " 4.995666666666667,\n",
       " 4.996666666666667,\n",
       " 4.999666666666666,\n",
       " 4.953666666666667,\n",
       " 5.004333333333333,\n",
       " 5.042666666666666,\n",
       " 4.997333333333334,\n",
       " 5.028666666666667,\n",
       " 5.012,\n",
       " 4.977333333333333,\n",
       " 4.997333333333334,\n",
       " 4.990666666666667,\n",
       " 5.014666666666667,\n",
       " 4.983,\n",
       " 5.027666666666667,\n",
       " 5.029,\n",
       " 5.011666666666667,\n",
       " 5.031666666666666,\n",
       " 4.993,\n",
       " 5.033,\n",
       " 4.973333333333334,\n",
       " 5.067333333333333,\n",
       " 5.037,\n",
       " 5.028,\n",
       " 5.024,\n",
       " 5.005333333333334,\n",
       " 5.006,\n",
       " 5.028666666666667,\n",
       " 5.031333333333333,\n",
       " 5.001,\n",
       " 5.0376666666666665,\n",
       " 4.995333333333333,\n",
       " 5.033,\n",
       " 5.012,\n",
       " 4.9526666666666666,\n",
       " 5.012666666666667,\n",
       " 4.993666666666667,\n",
       " 5.028333333333333,\n",
       " 5.000333333333334,\n",
       " 5.044333333333333,\n",
       " 5.048,\n",
       " 5.023333333333333,\n",
       " 4.977666666666667,\n",
       " 5.028333333333333,\n",
       " 4.970666666666666,\n",
       " 5.038333333333333,\n",
       " 5.052666666666667,\n",
       " 5.045333333333334,\n",
       " 5.011666666666667,\n",
       " 5.007,\n",
       " 5.046666666666667,\n",
       " 5.029333333333334,\n",
       " 5.0183333333333335,\n",
       " 5.029,\n",
       " 4.985333333333333,\n",
       " 4.99,\n",
       " 4.962666666666666,\n",
       " 4.967666666666666,\n",
       " 5.030666666666667,\n",
       " 4.957666666666666,\n",
       " 4.999333333333333,\n",
       " 5.025333333333333,\n",
       " 5.021,\n",
       " 5.007333333333333,\n",
       " 5.029333333333334,\n",
       " 4.996,\n",
       " 5.041333333333333,\n",
       " 4.956666666666667,\n",
       " 5.008333333333334,\n",
       " 5.025333333333333,\n",
       " 5.005,\n",
       " 5.011,\n",
       " 4.959,\n",
       " 4.932666666666667,\n",
       " 5.014666666666667,\n",
       " 5.027,\n",
       " 5.012666666666667,\n",
       " 5.069,\n",
       " 5.0103333333333335,\n",
       " 4.985333333333333,\n",
       " 5.035666666666667,\n",
       " 4.958666666666667,\n",
       " 5.003333333333333,\n",
       " 4.966333333333333,\n",
       " 4.999,\n",
       " 5.03,\n",
       " 5.021,\n",
       " 4.9656666666666665,\n",
       " 4.976333333333334,\n",
       " 5.014333333333333,\n",
       " 5.030333333333333,\n",
       " 5.003333333333333,\n",
       " 4.991333333333333,\n",
       " 5.041,\n",
       " 5.038333333333333,\n",
       " 5.060666666666667,\n",
       " 5.014333333333333,\n",
       " 5.022,\n",
       " 5.008666666666667,\n",
       " 4.995666666666667,\n",
       " 4.976666666666667,\n",
       " 4.992666666666667,\n",
       " 5.028,\n",
       " 5.027333333333333,\n",
       " 4.996666666666667,\n",
       " 5.011666666666667,\n",
       " 5.04,\n",
       " 5.044666666666667,\n",
       " 5.025333333333333,\n",
       " 5.007,\n",
       " 4.996,\n",
       " 4.973333333333334,\n",
       " 4.969,\n",
       " 5.024333333333334,\n",
       " 5.015666666666666,\n",
       " 4.999,\n",
       " 4.988,\n",
       " 5.0536666666666665,\n",
       " 4.996,\n",
       " 4.999,\n",
       " 5.016333333333334,\n",
       " 4.978666666666666,\n",
       " 5.054333333333333,\n",
       " 5.049333333333333,\n",
       " 4.975666666666666,\n",
       " 5.019,\n",
       " 4.971333333333333,\n",
       " 5.009666666666667,\n",
       " 4.986666666666666,\n",
       " 4.977333333333333,\n",
       " 4.964,\n",
       " 5.0136666666666665,\n",
       " 5.010666666666666,\n",
       " 5.036333333333333,\n",
       " 5.058,\n",
       " 4.956333333333333,\n",
       " 5.009333333333333,\n",
       " 4.974666666666667,\n",
       " 5.004,\n",
       " 4.994666666666666,\n",
       " 5.025,\n",
       " 5.017,\n",
       " 5.034,\n",
       " 5.044333333333333,\n",
       " 5.09,\n",
       " 5.030666666666667,\n",
       " 4.98,\n",
       " 5.012666666666667,\n",
       " 4.987333333333333,\n",
       " 5.0376666666666665,\n",
       " 4.972,\n",
       " 4.99,\n",
       " 5.016,\n",
       " 5.022333333333333,\n",
       " 4.975,\n",
       " 5.009,\n",
       " 5.0136666666666665,\n",
       " 4.9863333333333335,\n",
       " 5.009666666666667,\n",
       " 5.072666666666667,\n",
       " 4.981,\n",
       " 5.022666666666667,\n",
       " 4.979666666666667,\n",
       " 5.027666666666667,\n",
       " 5.014666666666667,\n",
       " 4.982,\n",
       " 5.058666666666666,\n",
       " 5.014333333333333,\n",
       " 4.976,\n",
       " 4.988333333333333,\n",
       " 4.998666666666667,\n",
       " 4.932,\n",
       " 4.988333333333333,\n",
       " 5.075666666666667,\n",
       " 4.996333333333333,\n",
       " 4.952333333333334,\n",
       " 5.007333333333333,\n",
       " 5.001666666666667,\n",
       " 4.987333333333333,\n",
       " 4.992666666666667,\n",
       " 5.035666666666667,\n",
       " 5.016333333333334,\n",
       " 5.019,\n",
       " 5.031,\n",
       " 4.976333333333334,\n",
       " 4.9736666666666665,\n",
       " 5.016666666666667,\n",
       " 4.9896666666666665,\n",
       " 4.999666666666666,\n",
       " 5.048,\n",
       " 5.008,\n",
       " 5.039666666666666,\n",
       " 5.016666666666667,\n",
       " 4.998333333333333,\n",
       " 5.025666666666667,\n",
       " 5.055,\n",
       " 5.0216666666666665,\n",
       " 4.987666666666667,\n",
       " 5.031666666666666,\n",
       " 5.018,\n",
       " 5.029,\n",
       " 5.014666666666667,\n",
       " 5.041666666666667,\n",
       " 4.998666666666667,\n",
       " 5.064333333333333,\n",
       " 4.978666666666666,\n",
       " 4.973,\n",
       " 5.074,\n",
       " 5.011666666666667,\n",
       " 5.002,\n",
       " 5.01,\n",
       " 4.9703333333333335,\n",
       " 5.009,\n",
       " 5.056666666666667,\n",
       " 4.956,\n",
       " 5.016666666666667,\n",
       " 5.018,\n",
       " 5.009666666666667,\n",
       " 5.062,\n",
       " 5.005,\n",
       " 5.0023333333333335,\n",
       " 4.992,\n",
       " 5.091666666666667,\n",
       " 4.984,\n",
       " 4.996,\n",
       " 5.0263333333333335,\n",
       " 4.992666666666667,\n",
       " 5.003,\n",
       " 5.004333333333333,\n",
       " 4.967,\n",
       " 5.013333333333334,\n",
       " 4.971666666666667,\n",
       " 4.972,\n",
       " 5.02,\n",
       " 5.008333333333334,\n",
       " 5.003,\n",
       " 5.026666666666666,\n",
       " 4.996333333333333,\n",
       " 4.999,\n",
       " 4.963666666666667,\n",
       " 4.970666666666666,\n",
       " 4.993,\n",
       " 4.981,\n",
       " 5.016,\n",
       " 5.010666666666666,\n",
       " 5.024333333333334,\n",
       " 5.017666666666667,\n",
       " 4.935666666666667,\n",
       " 4.956666666666667,\n",
       " 5.027666666666667,\n",
       " 5.009,\n",
       " 4.972666666666667,\n",
       " 5.002,\n",
       " 4.9943333333333335,\n",
       " 4.972,\n",
       " 4.963333333333333,\n",
       " 4.971333333333333,\n",
       " 4.961666666666667,\n",
       " 5.0473333333333334,\n",
       " 5.018,\n",
       " 4.992,\n",
       " 4.982666666666667,\n",
       " 4.972333333333333,\n",
       " 4.979333333333333,\n",
       " 5.022666666666667,\n",
       " 5.040666666666667,\n",
       " 5.009666666666667,\n",
       " 4.997,\n",
       " 4.987666666666667,\n",
       " 5.030666666666667,\n",
       " 5.0056666666666665,\n",
       " 4.999666666666666,\n",
       " 4.991,\n",
       " 4.934,\n",
       " 4.965,\n",
       " 5.0,\n",
       " 5.049,\n",
       " 5.000666666666667,\n",
       " 4.999,\n",
       " 5.022666666666667,\n",
       " 5.032,\n",
       " 5.030333333333333,\n",
       " 4.991666666666666,\n",
       " 4.966,\n",
       " 5.041,\n",
       " 4.984666666666667,\n",
       " 5.04,\n",
       " 5.038,\n",
       " 5.0136666666666665,\n",
       " 5.004333333333333,\n",
       " 5.017,\n",
       " 5.019666666666667,\n",
       " 5.04,\n",
       " 4.996666666666667,\n",
       " 4.989,\n",
       " 4.971333333333333,\n",
       " 5.030333333333333,\n",
       " 5.006,\n",
       " 5.024,\n",
       " 5.009,\n",
       " 5.001333333333333,\n",
       " 4.989,\n",
       " 5.024666666666667,\n",
       " 4.998333333333333,\n",
       " 5.024333333333334,\n",
       " 5.022333333333333,\n",
       " 5.008666666666667,\n",
       " 5.004,\n",
       " 5.014666666666667,\n",
       " 5.019,\n",
       " 4.984333333333334,\n",
       " 5.000333333333334,\n",
       " 5.009333333333333,\n",
       " 4.973333333333334,\n",
       " 5.021333333333334,\n",
       " 4.951666666666667,\n",
       " 5.015,\n",
       " 5.019666666666667,\n",
       " 5.001666666666667,\n",
       " 4.958,\n",
       " 4.951,\n",
       " 5.035,\n",
       " 5.019666666666667,\n",
       " 5.062,\n",
       " 5.006,\n",
       " 4.993666666666667,\n",
       " 4.999333333333333,\n",
       " 5.0456666666666665,\n",
       " 5.011,\n",
       " 4.987666666666667,\n",
       " 4.973333333333334,\n",
       " 5.017,\n",
       " 5.064666666666667,\n",
       " 5.011333333333333,\n",
       " 5.010666666666666,\n",
       " 4.975,\n",
       " 4.952,\n",
       " 5.006,\n",
       " 5.022333333333333,\n",
       " 4.999666666666666,\n",
       " 5.007,\n",
       " 4.987,\n",
       " 4.993,\n",
       " 4.998333333333333,\n",
       " 4.988,\n",
       " 4.963,\n",
       " 5.018,\n",
       " 5.004,\n",
       " 5.0473333333333334,\n",
       " 4.964333333333333,\n",
       " 5.054333333333333,\n",
       " 5.002,\n",
       " 5.057333333333333,\n",
       " 4.999333333333333,\n",
       " 5.01,\n",
       " 4.941333333333334,\n",
       " 5.039,\n",
       " 5.068666666666667,\n",
       " 4.991,\n",
       " 4.976,\n",
       " 5.036333333333333,\n",
       " 5.054666666666667,\n",
       " 5.033,\n",
       " 4.995,\n",
       " 4.989,\n",
       " 5.006,\n",
       " 5.005,\n",
       " 5.032666666666667,\n",
       " 5.008666666666667,\n",
       " 4.986,\n",
       " 4.979333333333333,\n",
       " 5.002,\n",
       " 5.031666666666666,\n",
       " 5.0536666666666665,\n",
       " 4.995,\n",
       " 5.004666666666667,\n",
       " 5.036666666666667,\n",
       " 4.981333333333334,\n",
       " 4.977666666666667,\n",
       " 4.983,\n",
       " 5.0216666666666665,\n",
       " 5.006666666666667,\n",
       " 4.966,\n",
       " 5.009666666666667,\n",
       " 5.003,\n",
       " 4.990666666666667,\n",
       " 5.009333333333333,\n",
       " 5.0536666666666665,\n",
       " 5.031333333333333,\n",
       " 4.9783333333333335,\n",
       " 5.015666666666666,\n",
       " 5.005333333333334,\n",
       " 5.085333333333334,\n",
       " 5.008333333333334,\n",
       " 5.000333333333334,\n",
       " 4.967666666666666,\n",
       " 5.023666666666666,\n",
       " 5.0183333333333335,\n",
       " 5.038333333333333,\n",
       " 4.999333333333333,\n",
       " 5.0136666666666665,\n",
       " 4.980333333333333,\n",
       " 4.9863333333333335,\n",
       " 5.04,\n",
       " 4.934666666666667,\n",
       " 5.021,\n",
       " 4.985333333333333,\n",
       " 4.967666666666666,\n",
       " 4.957,\n",
       " 4.985666666666667,\n",
       " 5.001,\n",
       " 5.033666666666667,\n",
       " 5.025333333333333,\n",
       " 4.979333333333333,\n",
       " 5.072666666666667,\n",
       " 4.975666666666666,\n",
       " 5.037,\n",
       " 5.025,\n",
       " 4.987666666666667,\n",
       " 5.038,\n",
       " 4.959,\n",
       " 5.001,\n",
       " 5.020333333333333,\n",
       " 4.999,\n",
       " 5.0103333333333335,\n",
       " 4.997333333333334,\n",
       " 5.002666666666666,\n",
       " 5.006666666666667,\n",
       " 5.031666666666666,\n",
       " 5.026666666666666,\n",
       " 5.014,\n",
       " 5.058333333333334,\n",
       " 5.029,\n",
       " 4.979333333333333,\n",
       " 4.9703333333333335,\n",
       " 4.978666666666666,\n",
       " 5.007666666666666,\n",
       " 5.009333333333333,\n",
       " 4.988333333333333,\n",
       " 5.025666666666667,\n",
       " 4.99,\n",
       " 5.017333333333333,\n",
       " 4.983,\n",
       " 4.931333333333333,\n",
       " 5.099666666666667,\n",
       " 5.047666666666666,\n",
       " 4.983666666666666,\n",
       " 4.98,\n",
       " 4.979666666666667,\n",
       " 5.042,\n",
       " 4.998333333333333,\n",
       " 5.005333333333334,\n",
       " 5.086,\n",
       " 5.030666666666667,\n",
       " 4.990666666666667,\n",
       " 5.033333333333333,\n",
       " 5.013333333333334,\n",
       " 5.015666666666666,\n",
       " 4.971333333333333,\n",
       " 5.001,\n",
       " 5.004,\n",
       " 4.958666666666667,\n",
       " 5.003666666666667,\n",
       " 5.02,\n",
       " 5.042333333333334,\n",
       " 5.018666666666666,\n",
       " 5.057333333333333,\n",
       " 5.026,\n",
       " 4.995333333333333,\n",
       " 5.035,\n",
       " 5.0473333333333334,\n",
       " 4.958,\n",
       " 5.056666666666667,\n",
       " 4.985,\n",
       " 4.982,\n",
       " 5.000333333333334,\n",
       " 5.007666666666666,\n",
       " 5.002,\n",
       " 4.990333333333333,\n",
       " 4.9736666666666665,\n",
       " 4.949333333333334,\n",
       " 5.004666666666667,\n",
       " 5.030666666666667,\n",
       " 4.995333333333333,\n",
       " 5.022333333333333,\n",
       " 5.063,\n",
       " 4.992333333333334,\n",
       " 5.016666666666667,\n",
       " 5.0263333333333335,\n",
       " 4.995,\n",
       " 4.987,\n",
       " 4.9943333333333335,\n",
       " 4.979333333333333,\n",
       " 5.040333333333334,\n",
       " 4.987,\n",
       " 5.035,\n",
       " 5.020666666666667,\n",
       " 5.062,\n",
       " 5.008666666666667,\n",
       " 4.910333333333333,\n",
       " 4.965,\n",
       " 5.015666666666666,\n",
       " 5.001666666666667,\n",
       " 5.058666666666666,\n",
       " 5.067666666666667,\n",
       " 4.989333333333334,\n",
       " 4.899666666666667,\n",
       " 4.966666666666667,\n",
       " 4.980666666666667,\n",
       " 5.039666666666666,\n",
       " 5.014666666666667,\n",
       " 4.983666666666666,\n",
       " 4.987333333333333,\n",
       " 5.008,\n",
       " 5.028,\n",
       " 5.003333333333333,\n",
       " 5.039,\n",
       " 4.992333333333334,\n",
       " 5.004333333333333,\n",
       " 5.019,\n",
       " 4.970666666666666,\n",
       " 4.9656666666666665,\n",
       " 4.975333333333333,\n",
       " 5.007333333333333,\n",
       " 5.031666666666666,\n",
       " 4.984,\n",
       " 4.985,\n",
       " 4.987,\n",
       " 4.992,\n",
       " 4.98,\n",
       " 5.066,\n",
       " 5.012666666666667,\n",
       " 4.969,\n",
       " 5.019,\n",
       " 5.002,\n",
       " 5.001333333333333,\n",
       " 5.053333333333334,\n",
       " 5.033333333333333,\n",
       " 4.998333333333333,\n",
       " 4.994666666666666,\n",
       " 4.99,\n",
       " 4.9383333333333335,\n",
       " 5.006666666666667,\n",
       " 5.003333333333333,\n",
       " 5.020666666666667,\n",
       " 4.976666666666667,\n",
       " 5.013,\n",
       " 4.984666666666667,\n",
       " 5.005,\n",
       " 5.065,\n",
       " 5.010666666666666,\n",
       " 5.044,\n",
       " 5.020333333333333,\n",
       " 5.007,\n",
       " 5.035333333333333,\n",
       " 4.950666666666667,\n",
       " 5.019333333333333,\n",
       " 5.000666666666667,\n",
       " 4.981,\n",
       " 5.038333333333333,\n",
       " 5.052,\n",
       " 5.040666666666667,\n",
       " 4.992,\n",
       " 5.015666666666666,\n",
       " 5.015,\n",
       " 5.025333333333333,\n",
       " 4.976333333333334,\n",
       " 4.982,\n",
       " 4.966,\n",
       " 5.0263333333333335,\n",
       " 5.005333333333334,\n",
       " 4.958333333333333,\n",
       " 4.971666666666667,\n",
       " 5.045333333333334,\n",
       " 4.989,\n",
       " 5.037,\n",
       " 4.972333333333333,\n",
       " 4.995333333333333,\n",
       " 5.003,\n",
       " 5.033666666666667,\n",
       " 5.017666666666667,\n",
       " 4.955666666666667,\n",
       " 4.991,\n",
       " 5.029333333333334,\n",
       " 4.993666666666667,\n",
       " 5.016,\n",
       " 4.993,\n",
       " 5.009333333333333,\n",
       " 4.961,\n",
       " 5.017,\n",
       " 5.010666666666666,\n",
       " 4.983333333333333,\n",
       " 5.012333333333333,\n",
       " 5.025666666666667,\n",
       " 5.029,\n",
       " 4.9816666666666665,\n",
       " 5.011333333333333,\n",
       " 4.9703333333333335,\n",
       " 4.9943333333333335,\n",
       " 5.036,\n",
       " 4.994666666666666,\n",
       " 5.023333333333333,\n",
       " 5.011,\n",
       " 5.024333333333334,\n",
       " 5.020666666666667,\n",
       " 4.950333333333333,\n",
       " 4.990333333333333,\n",
       " 5.021,\n",
       " 5.000666666666667,\n",
       " 5.04,\n",
       " 4.929666666666667,\n",
       " 5.072,\n",
       " 5.014333333333333,\n",
       " 5.003,\n",
       " 5.025666666666667,\n",
       " 5.033666666666667,\n",
       " 5.029333333333334,\n",
       " 4.990333333333333,\n",
       " 5.055666666666666,\n",
       " 5.010666666666666,\n",
       " 5.047,\n",
       " 5.015333333333333,\n",
       " 5.01,\n",
       " 4.977666666666667,\n",
       " 4.993,\n",
       " 5.027,\n",
       " 5.031,\n",
       " 5.016,\n",
       " 5.077333333333334,\n",
       " 5.011,\n",
       " 5.013333333333334,\n",
       " 5.026,\n",
       " 5.012,\n",
       " 5.051,\n",
       " 5.0056666666666665,\n",
       " 4.979333333333333,\n",
       " 5.051333333333333,\n",
       " 5.000333333333334,\n",
       " 5.006666666666667,\n",
       " 5.029,\n",
       " 5.041333333333333,\n",
       " 5.038333333333333,\n",
       " 4.947666666666667,\n",
       " 5.001666666666667,\n",
       " 4.994666666666666,\n",
       " 5.024333333333334,\n",
       " 4.964333333333333,\n",
       " 5.007666666666666,\n",
       " 5.015,\n",
       " 5.053,\n",
       " 4.981333333333334,\n",
       " 5.023333333333333,\n",
       " 4.951,\n",
       " 5.015666666666666,\n",
       " 4.947333333333333,\n",
       " 5.016333333333334,\n",
       " 4.968666666666667,\n",
       " 5.014,\n",
       " 4.957666666666666,\n",
       " 4.995666666666667,\n",
       " 4.964666666666667,\n",
       " 4.9656666666666665,\n",
       " 5.058333333333334,\n",
       " 4.937333333333333,\n",
       " 5.022666666666667,\n",
       " 4.984,\n",
       " 4.991,\n",
       " 5.027,\n",
       " 4.99,\n",
       " 4.993666666666667,\n",
       " 5.025666666666667,\n",
       " 4.967666666666666,\n",
       " 5.074333333333334,\n",
       " 5.034,\n",
       " 5.012666666666667,\n",
       " 5.030333333333333,\n",
       " 5.040333333333334,\n",
       " 4.949666666666666,\n",
       " 5.024666666666667,\n",
       " 4.941,\n",
       " 4.942666666666667,\n",
       " 4.961,\n",
       " 4.9526666666666666,\n",
       " 5.033333333333333,\n",
       " 4.991,\n",
       " 5.048333333333333,\n",
       " 5.03,\n",
       " 5.043666666666667,\n",
       " 5.0023333333333335,\n",
       " 4.98,\n",
       " 5.014666666666667,\n",
       " 5.020666666666667,\n",
       " 5.049333333333333,\n",
       " 5.002,\n",
       " 4.933333333333334,\n",
       " 5.0,\n",
       " 4.980333333333333,\n",
       " 5.022666666666667,\n",
       " 4.982666666666667,\n",
       " 5.028666666666667,\n",
       " 4.985333333333333,\n",
       " 4.996666666666667,\n",
       " 5.002666666666666,\n",
       " 5.016333333333334,\n",
       " 4.9703333333333335,\n",
       " 4.972666666666667,\n",
       " 5.007666666666666,\n",
       " 4.9816666666666665,\n",
       " 5.019,\n",
       " 5.030333333333333,\n",
       " 4.979666666666667,\n",
       " 4.983666666666666,\n",
       " 5.039666666666666,\n",
       " 4.963333333333333,\n",
       " 4.938,\n",
       " 5.012333333333333,\n",
       " 5.045,\n",
       " 5.0023333333333335,\n",
       " 5.003333333333333,\n",
       " 4.988333333333333,\n",
       " 4.953666666666667,\n",
       " 5.026666666666666,\n",
       " 5.008333333333334,\n",
       " 5.066666666666666,\n",
       " 5.0136666666666665,\n",
       " 4.998,\n",
       " 5.042666666666666,\n",
       " 5.039,\n",
       " 5.006,\n",
       " 4.960333333333334,\n",
       " 4.964666666666667,\n",
       " 5.001333333333333,\n",
       " 5.029333333333334,\n",
       " 5.004,\n",
       " 5.021,\n",
       " 5.038666666666667,\n",
       " 5.004333333333333,\n",
       " 4.971,\n",
       " 4.980333333333333,\n",
       " 5.041333333333333,\n",
       " 4.988666666666667,\n",
       " 5.022333333333333,\n",
       " 4.993666666666667,\n",
       " 4.9863333333333335,\n",
       " 5.049,\n",
       " 5.029,\n",
       " 5.025333333333333,\n",
       " 5.0136666666666665,\n",
       " 5.077333333333334,\n",
       " 4.961,\n",
       " 4.992666666666667,\n",
       " 5.007,\n",
       " 5.015,\n",
       " 4.997333333333334,\n",
       " 4.984333333333334,\n",
       " 4.957333333333334,\n",
       " 4.994666666666666,\n",
       " 5.016333333333334,\n",
       " 5.039,\n",
       " 5.031333333333333,\n",
       " 5.0216666666666665,\n",
       " 4.994,\n",
       " 5.013,\n",
       " 4.999333333333333,\n",
       " 5.034666666666666,\n",
       " 5.015333333333333,\n",
       " 5.023666666666666,\n",
       " 5.019666666666667,\n",
       " 5.029333333333334,\n",
       " 4.990666666666667,\n",
       " 5.054666666666667,\n",
       " 4.966333333333333,\n",
       " 5.06,\n",
       " 4.993333333333333,\n",
       " 4.999,\n",
       " 4.999333333333333,\n",
       " 4.990333333333333,\n",
       " 4.99,\n",
       " 5.019333333333333,\n",
       " 4.99,\n",
       " 4.998,\n",
       " 5.021333333333334,\n",
       " 4.9943333333333335,\n",
       " 4.995333333333333,\n",
       " 5.041666666666667,\n",
       " 4.9816666666666665,\n",
       " 4.9816666666666665,\n",
       " 4.985333333333333,\n",
       " 5.021,\n",
       " 4.9896666666666665,\n",
       " 5.053333333333334,\n",
       " 5.0263333333333335,\n",
       " 4.982666666666667,\n",
       " 5.043333333333333,\n",
       " 4.974333333333333,\n",
       " 5.024666666666667,\n",
       " 4.993666666666667,\n",
       " 4.997333333333334,\n",
       " 5.021,\n",
       " 5.065,\n",
       " 4.942666666666667,\n",
       " 4.951666666666667,\n",
       " 5.056666666666667,\n",
       " 4.976,\n",
       " 4.996666666666667,\n",
       " 4.984,\n",
       " 5.044,\n",
       " 4.980333333333333,\n",
       " 4.96,\n",
       " 5.026666666666666,\n",
       " 5.017666666666667,\n",
       " 5.031,\n",
       " 5.012666666666667,\n",
       " 5.036666666666667,\n",
       " 5.033333333333333,\n",
       " 4.990333333333333,\n",
       " 4.972,\n",
       " 5.0103333333333335,\n",
       " 5.009333333333333,\n",
       " 4.9863333333333335,\n",
       " 5.003333333333333,\n",
       " 5.007666666666666,\n",
       " 4.982,\n",
       " 4.936,\n",
       " 5.001666666666667,\n",
       " 5.007,\n",
       " 5.042,\n",
       " 5.012666666666667,\n",
       " 5.054333333333333,\n",
       " 4.982,\n",
       " 5.0023333333333335,\n",
       " 5.062333333333333,\n",
       " 4.977,\n",
       " 4.9526666666666666,\n",
       " 4.9896666666666665,\n",
       " 4.998666666666667,\n",
       " 5.020666666666667,\n",
       " 4.981333333333334,\n",
       " 5.021,\n",
       " 5.005,\n",
       " 5.046333333333333,\n",
       " 5.041,\n",
       " 4.968666666666667,\n",
       " 5.031666666666666,\n",
       " 5.014,\n",
       " 5.003333333333333,\n",
       " 4.9736666666666665,\n",
       " 4.991666666666666,\n",
       " 4.999333333333333,\n",
       " 5.024333333333334,\n",
       " 5.102333333333333,\n",
       " 5.064333333333333,\n",
       " 5.020333333333333,\n",
       " 4.928333333333334,\n",
       " 5.033666666666667,\n",
       " 5.019333333333333,\n",
       " 5.017666666666667,\n",
       " 5.022,\n",
       " 4.965,\n",
       " 4.9446666666666665,\n",
       " 5.035,\n",
       " 5.019333333333333,\n",
       " 5.057333333333333,\n",
       " 5.012333333333333,\n",
       " 4.979333333333333,\n",
       " 5.033333333333333,\n",
       " 5.003333333333333,\n",
       " 4.981333333333334,\n",
       " 5.002,\n",
       " 5.028666666666667,\n",
       " 5.023,\n",
       " 4.997333333333334,\n",
       " 5.032,\n",
       " 5.009333333333333,\n",
       " 5.0023333333333335,\n",
       " 4.998,\n",
       " 5.002666666666666,\n",
       " 5.0216666666666665,\n",
       " 4.963666666666667,\n",
       " 5.019333333333333,\n",
       " 4.9863333333333335,\n",
       " 5.050666666666666,\n",
       " 5.016,\n",
       " 5.006666666666667,\n",
       " 4.988666666666667,\n",
       " 4.983666666666666,\n",
       " 5.004333333333333,\n",
       " 4.952333333333334,\n",
       " 5.000333333333334,\n",
       " 5.005,\n",
       " 5.037333333333334,\n",
       " 5.014666666666667,\n",
       " 5.05,\n",
       " 4.969666666666667,\n",
       " 5.005,\n",
       " 5.0183333333333335,\n",
       " 5.043333333333333,\n",
       " 5.035333333333333,\n",
       " 5.001666666666667,\n",
       " 4.995333333333333,\n",
       " 5.006666666666667,\n",
       " 5.011,\n",
       " 5.032666666666667,\n",
       " 5.014,\n",
       " 4.975,\n",
       " 5.018,\n",
       " 5.003,\n",
       " 5.014,\n",
       " 5.022333333333333,\n",
       " 4.968333333333334,\n",
       " 5.045,\n",
       " 4.985,\n",
       " 5.009666666666667,\n",
       " 4.957333333333334,\n",
       " 4.913666666666667,\n",
       " 5.020666666666667,\n",
       " 5.011,\n",
       " 4.981333333333334,\n",
       " 4.979,\n",
       " 5.0056666666666665,\n",
       " 4.992,\n",
       " 4.9816666666666665,\n",
       " 5.005333333333334,\n",
       " 5.052666666666667,\n",
       " 5.006,\n",
       " 4.957,\n",
       " 5.034,\n",
       " 4.98,\n",
       " 5.023,\n",
       " 4.974,\n",
       " 4.99,\n",
       " 5.069,\n",
       " 4.99,\n",
       " 5.016666666666667,\n",
       " 4.977666666666667,\n",
       " 4.981,\n",
       " 4.979,\n",
       " 4.9303333333333335,\n",
       " 4.996666666666667,\n",
       " 4.961666666666667,\n",
       " 4.968333333333334,\n",
       " 4.964666666666667,\n",
       " 4.996333333333333,\n",
       " 4.9863333333333335,\n",
       " 5.001333333333333,\n",
       " 4.999333333333333,\n",
       " 5.048333333333333,\n",
       " 4.983333333333333,\n",
       " 4.979666666666667,\n",
       " 5.027333333333333,\n",
       " 5.032666666666667,\n",
       " 5.007666666666666,\n",
       " 5.026,\n",
       " 5.022,\n",
       " 4.988666666666667,\n",
       " 5.062666666666667,\n",
       " 4.985,\n",
       " 4.994666666666666,\n",
       " 5.008666666666667,\n",
       " 5.0456666666666665,\n",
       " 4.992,\n",
       " 4.988666666666667,\n",
       " 5.004,\n",
       " 4.978,\n",
       " 5.009666666666667,\n",
       " 5.012666666666667,\n",
       " 4.974,\n",
       " 4.991666666666666,\n",
       " 5.010666666666666,\n",
       " 5.032333333333334,\n",
       " 4.992666666666667,\n",
       " 4.988333333333333,\n",
       " 4.992666666666667,\n",
       " 4.992666666666667,\n",
       " 4.970666666666666,\n",
       " 5.033333333333333,\n",
       " 4.995333333333333,\n",
       " 5.016,\n",
       " 4.986,\n",
       " 4.974666666666667]"
      ]
     },
     "execution_count": 19,
     "metadata": {},
     "output_type": "execute_result"
    }
   ],
   "source": [
    "mean_of_samples"
   ]
  },
  {
   "cell_type": "code",
   "execution_count": 20,
   "metadata": {},
   "outputs": [
    {
     "name": "stderr",
     "output_type": "stream",
     "text": [
      "c:\\Users\\mdaza\\AppData\\Local\\Programs\\Python\\Python310\\lib\\site-packages\\seaborn\\_oldcore.py:1119: FutureWarning: use_inf_as_na option is deprecated and will be removed in a future version. Convert inf values to NaN before operating instead.\n",
      "  with pd.option_context('mode.use_inf_as_na', True):\n"
     ]
    },
    {
     "data": {
      "text/plain": [
       "<Axes: ylabel='Count'>"
      ]
     },
     "execution_count": 20,
     "metadata": {},
     "output_type": "execute_result"
    },
    {
     "data": {
      "image/png": "[encoded data removed]",
      "text/plain": [
       "<Figure size 640x480 with 1 Axes>"
      ]
     },
     "metadata": {},
     "output_type": "display_data"
    }
   ],
   "source": [
    "sns.histplot(mean_of_samples , kde=True , color='r' )"
   ]
  },
  {
   "cell_type": "markdown",
   "metadata": {},
   "source": [
    "# Z-Test"
   ]
  },
  {
   "cell_type": "code",
   "execution_count": 21,
   "metadata": {},
   "outputs": [
    {
     "data": {
      "text/plain": [
       "array([ 3.04185541,  0.18728257, -2.02512489,  0.9424137 ,  0.14455814,\n",
       "       -0.42307593, -0.44748628,  1.64825738,  0.2582859 , -0.74854232,\n",
       "       -1.15435878,  0.31578585,  0.19255768, -1.71065542,  0.6724365 ,\n",
       "       -0.66905042,  0.62543633,  0.03845702, -2.63500504, -0.78578027,\n",
       "       -0.00391457,  0.33440487,  1.22340691,  0.31933348, -1.03600106,\n",
       "        0.43799403,  0.04430611,  0.9776015 , -0.14559996, -2.195096  ,\n",
       "       -1.04856927, -0.83622262,  1.49497148, -0.51989381,  2.05010389,\n",
       "       -0.01459734, -0.10890098, -0.73603295,  2.01601688,  1.79824766,\n",
       "        1.27792563, -0.36263011, -1.05649096, -0.20896464, -0.59594   ,\n",
       "        0.12362602,  1.8277938 , -0.6693063 , -0.03851107,  0.14358804,\n",
       "        0.14814198, -0.24937062, -0.52872802,  0.63665962, -1.00941897,\n",
       "       -0.1647261 ,  0.11741581, -0.70510878,  0.21726108,  0.47746238,\n",
       "       -2.42989133, -0.77809868, -0.7973424 , -0.06671753,  0.36898603,\n",
       "        0.6342209 , -0.81645206,  0.0863855 ,  0.13231933, -0.75399624,\n",
       "        0.03808849,  0.05819906,  0.15917658, -0.67788482,  0.26310279,\n",
       "       -1.29244822, -0.20189843,  0.6866497 , -0.40875046, -1.2151943 ,\n",
       "        1.29279184,  0.84519559,  0.01862847, -0.0973264 , -0.32774261,\n",
       "        0.84385129, -1.13727686, -0.84336737, -1.62339123, -0.91555285,\n",
       "       -0.87698486, -0.62946218, -0.06365537,  0.67410353,  0.72653907,\n",
       "       -0.39482757, -2.1168971 , -0.74318257,  1.35377942,  0.01515162])"
      ]
     },
     "execution_count": 21,
     "metadata": {},
     "output_type": "execute_result"
    }
   ],
   "source": [
    "# Z-test\n",
    "\n",
    "from numpy .random import randn\n",
    "\n",
    "population = randn(100)\n",
    "\n",
    "population"
   ]
  },
  {
   "cell_type": "code",
   "execution_count": 28,
   "metadata": {},
   "outputs": [
    {
     "name": "stderr",
     "output_type": "stream",
     "text": [
      "C:\\Users\\mdaza\\AppData\\Local\\Temp\\ipykernel_20764\\2062300179.py:1: UserWarning: \n",
      "\n",
      "`distplot` is a deprecated function and will be removed in seaborn v0.14.0.\n",
      "\n",
      "Please adapt your code to use either `displot` (a figure-level function with\n",
      "similar flexibility) or `histplot` (an axes-level function for histograms).\n",
      "\n",
      "For a guide to updating your code to use the new functions, please see\n",
      "https://gist.github.com/mwaskom/de44147ed2974457ad6372750bbe5751\n",
      "\n",
      "  sns.distplot(population)   # normal distribution\n",
      "c:\\Users\\mdaza\\AppData\\Local\\Programs\\Python\\Python310\\lib\\site-packages\\seaborn\\_oldcore.py:1119: FutureWarning: use_inf_as_na option is deprecated and will be removed in a future version. Convert inf values to NaN before operating instead.\n",
      "  with pd.option_context('mode.use_inf_as_na', True):\n"
     ]
    },
    {
     "data": {
      "text/plain": [
       "<Axes: ylabel='Density'>"
      ]
     },
     "execution_count": 28,
     "metadata": {},
     "output_type": "execute_result"
    },
    {
     "data": {
      "image/png": "[encoded data removed]",
      "text/plain": [
       "<Figure size 640x480 with 1 Axes>"
      ]
     },
     "metadata": {},
     "output_type": "display_data"
    }
   ],
   "source": [
    "sns.distplot(population)   # normal distribution"
   ]
  },
  {
   "cell_type": "code",
   "execution_count": 31,
   "metadata": {},
   "outputs": [
    {
     "data": {
      "text/plain": [
       "-0.10110688059058301"
      ]
     },
     "execution_count": 31,
     "metadata": {},
     "output_type": "execute_result"
    }
   ],
   "source": [
    "np.mean(population)   # Assume we dont know this"
   ]
  },
  {
   "cell_type": "code",
   "execution_count": 32,
   "metadata": {},
   "outputs": [
    {
     "data": {
      "text/plain": [
       "0.9812627409553901"
      ]
     },
     "execution_count": 32,
     "metadata": {},
     "output_type": "execute_result"
    }
   ],
   "source": [
    "np.std(population)"
   ]
  },
  {
   "cell_type": "code",
   "execution_count": 33,
   "metadata": {},
   "outputs": [],
   "source": [
    "null_mean = 0.09   # null hypothesis"
   ]
  },
  {
   "cell_type": "markdown",
   "metadata": {},
   "source": [
    "# P_Value <= 0.05 ==== reject null hypothesis \n",
    "# P_Value > 0.05  ==== we fail to reject null hypothesis"
   ]
  },
  {
   "cell_type": "code",
   "execution_count": 39,
   "metadata": {},
   "outputs": [],
   "source": [
    "from statsmodels.stats.weightstats import ztest\n",
    "\n",
    "z_score, p_value = ztest(population, value=null_mean, alternative='larger')\n",
    "\n",
    "# alternative means , mean is greater than null mean\n"
   ]
  },
  {
   "cell_type": "code",
   "execution_count": 40,
   "metadata": {},
   "outputs": [
    {
     "name": "stdout",
     "output_type": "stream",
     "text": [
      "-1.9377984855221313 0.9736760936883951\n"
     ]
    }
   ],
   "source": [
    "print(z_score , p_value)"
   ]
  },
  {
   "cell_type": "code",
   "execution_count": 41,
   "metadata": {},
   "outputs": [
    {
     "name": "stdout",
     "output_type": "stream",
     "text": [
      "Fail to reject null hypothesis\n"
     ]
    }
   ],
   "source": [
    "if p_value <= 0.05:\n",
    "    print(\"Reject null hypothesis\")\n",
    "else:\n",
    "    print(\"Fail to reject null hypothesis\")"
   ]
  },
  {
   "cell_type": "markdown",
   "metadata": {},
   "source": [
    "# Scipy  \n",
    "\n",
    "# #zcritical approach"
   ]
  },
  {
   "cell_type": "markdown",
   "metadata": {},
   "source": [
    "#A school calculated iq scores of 50 students, the average iq  turned out to be 100. the mean of population iq is 90\n",
    "\n",
    "#and the std deviation 16. \n",
    "\n",
    "\n",
    "#state whether the claim by school \n",
    "\n",
    "#that IQ increases if student study more than avg of school with 5% of significance level\n",
    "\n",
    "#null hypothesis : mean_iq = 90\n",
    "#Alternate: mean_iq > 90"
   ]
  },
  {
   "cell_type": "code",
   "execution_count": 49,
   "metadata": {},
   "outputs": [
    {
     "name": "stdout",
     "output_type": "stream",
     "text": [
      "The zsore is  4.419417382415922\n"
     ]
    }
   ],
   "source": [
    "import scipy.stats as stats \n",
    "\n",
    "sample_mean = 100\n",
    "population_mean = 90\n",
    "population_std = 16\n",
    "sample_size = 50\n",
    "alpha = 0.05\n",
    "\n",
    "\n",
    "\n",
    "\n",
    "z_score = (sample_mean - population_mean) / (population_std/np.sqrt(sample_size))\n",
    "print(\"The zsore is \", zscore)\n"
   ]
  },
  {
   "cell_type": "code",
   "execution_count": 50,
   "metadata": {},
   "outputs": [
    {
     "data": {
      "text/plain": [
       "1.6448536269514722"
      ]
     },
     "execution_count": 50,
     "metadata": {},
     "output_type": "execute_result"
    }
   ],
   "source": [
    "#stats>>statistics module in Scipy\n",
    "#norm >> normal distr\n",
    "#ppf >> percent point function>> inverse of cumulative distribution function(cdf)\n",
    "\n",
    "z_critical = stats.norm.ppf(1-alpha)\n",
    "z_critical"
   ]
  },
  {
   "cell_type": "code",
   "execution_count": 51,
   "metadata": {},
   "outputs": [
    {
     "name": "stdout",
     "output_type": "stream",
     "text": [
      "Reject the null hypothesis\n"
     ]
    }
   ],
   "source": [
    "if z_score > z_critical:\n",
    "    print(\"Reject the null hypothesis\")\n",
    "else:\n",
    "    print(\"fail to reject null hypothesis\")"
   ]
  },
  {
   "cell_type": "code",
   "execution_count": 55,
   "metadata": {},
   "outputs": [
    {
     "name": "stdout",
     "output_type": "stream",
     "text": [
      "Reject the null hypothesis\n"
     ]
    }
   ],
   "source": [
    "p_value = 1 - stats.norm.cdf(z_score)\n",
    "\n",
    "\n",
    "if p_value <= 0.05:\n",
    "    print(\"Reject the null hypothesis\")\n",
    "else:\n",
    "    print(\"Fail to reject the null hypothesis\")"
   ]
  },
  {
   "cell_type": "markdown",
   "metadata": {},
   "source": [
    "# T - Test\n",
    "\n",
    "\n",
    "#T-test when sample size < 30 or sigma of pop is not given\n",
    "\n",
    "#one sample t test (with respect to one independent sample)\n",
    "\n",
    "#two sample t test (with respect to two independent sample)\n",
    "\n",
    "#paired t test (two sample from the population on different time interval)"
   ]
  },
  {
   "cell_type": "code",
   "execution_count": 56,
   "metadata": {},
   "outputs": [],
   "source": [
    "# T - Test\n",
    "\n",
    "# T-test when sample size < 30 or sigma of pop is not given\n",
    "# one sample t test (with respect to one independent sample)\n",
    "# two sample t test (with respect to two independent sample)\n",
    "# paired t test (two sample from the population on different time interval)"
   ]
  },
  {
   "cell_type": "code",
   "execution_count": null,
   "metadata": {},
   "outputs": [],
   "source": []
  }
 ],
 "metadata": {
  "kernelspec": {
   "display_name": "Python 3",
   "language": "python",
   "name": "python3"
  },
  "language_info": {
   "codemirror_mode": {
    "name": "ipython",
    "version": 3
   },
   "file_extension": ".py",
   "mimetype": "text/x-python",
   "name": "python",
   "nbconvert_exporter": "python",
   "pygments_lexer": "ipython3",
   "version": "3.10.7"
  }
 },
 "nbformat": 4,
 "nbformat_minor": 2
}

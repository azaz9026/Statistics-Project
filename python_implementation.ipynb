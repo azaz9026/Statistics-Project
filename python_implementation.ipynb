{
 "cells": [
  {
   "cell_type": "code",
   "execution_count": 1,
   "metadata": {},
   "outputs": [
    {
     "data": {
      "text/plain": [
       "[1, 2, 3, 4, 5]"
      ]
     },
     "execution_count": 1,
     "metadata": {},
     "output_type": "execute_result"
    }
   ],
   "source": [
    "data = [1,2,3,4,5]\n",
    "data"
   ]
  },
  {
   "cell_type": "code",
   "execution_count": 2,
   "metadata": {},
   "outputs": [
    {
     "name": "stderr",
     "output_type": "stream",
     "text": [
      "C:\\Users\\mdaza\\AppData\\Local\\Temp\\ipykernel_18396\\555797462.py:1: DeprecationWarning: \n",
      "Pyarrow will become a required dependency of pandas in the next major release of pandas (pandas 3.0),\n",
      "(to allow more performant data types, such as the Arrow string type, and better interoperability with other libraries)\n",
      "but was not found to be installed on your system.\n",
      "If this would cause problems for you,\n",
      "please provide us feedback at https://github.com/pandas-dev/pandas/issues/54466\n",
      "        \n",
      "  import pandas as pd\n"
     ]
    }
   ],
   "source": [
    "import pandas as pd\n",
    "import numpy as np\n",
    "import matplotlib.pyplot as plt\n",
    "import seaborn as sns"
   ]
  },
  {
   "cell_type": "markdown",
   "metadata": {},
   "source": [
    "# Mean of a data"
   ]
  },
  {
   "cell_type": "code",
   "execution_count": 3,
   "metadata": {},
   "outputs": [
    {
     "data": {
      "text/plain": [
       "3.0"
      ]
     },
     "execution_count": 3,
     "metadata": {},
     "output_type": "execute_result"
    }
   ],
   "source": [
    "# Mean of a data\n",
    "\n",
    "np.mean(data)"
   ]
  },
  {
   "cell_type": "code",
   "execution_count": 4,
   "metadata": {},
   "outputs": [
    {
     "data": {
      "text/plain": [
       "3.0"
      ]
     },
     "execution_count": 4,
     "metadata": {},
     "output_type": "execute_result"
    }
   ],
   "source": [
    "# Median of data\n",
    "\n",
    "np.median(data)"
   ]
  },
  {
   "cell_type": "markdown",
   "metadata": {},
   "source": [
    "***Loading of Dataset***"
   ]
  },
  {
   "cell_type": "code",
   "execution_count": 5,
   "metadata": {},
   "outputs": [],
   "source": [
    "df = sns.load_dataset('tips')"
   ]
  },
  {
   "cell_type": "code",
   "execution_count": 6,
   "metadata": {},
   "outputs": [
    {
     "data": {
      "text/html": [
       "<div>\n",
       "<style scoped>\n",
       "    .dataframe tbody tr th:only-of-type {\n",
       "        vertical-align: middle;\n",
       "    }\n",
       "\n",
       "    .dataframe tbody tr th {\n",
       "        vertical-align: top;\n",
       "    }\n",
       "\n",
       "    .dataframe thead th {\n",
       "        text-align: right;\n",
       "    }\n",
       "</style>\n",
       "<table border=\"1\" class=\"dataframe\">\n",
       "  <thead>\n",
       "    <tr style=\"text-align: right;\">\n",
       "      <th></th>\n",
       "      <th>total_bill</th>\n",
       "      <th>tip</th>\n",
       "      <th>sex</th>\n",
       "      <th>smoker</th>\n",
       "      <th>day</th>\n",
       "      <th>time</th>\n",
       "      <th>size</th>\n",
       "    </tr>\n",
       "  </thead>\n",
       "  <tbody>\n",
       "    <tr>\n",
       "      <th>0</th>\n",
       "      <td>16.99</td>\n",
       "      <td>1.01</td>\n",
       "      <td>Female</td>\n",
       "      <td>No</td>\n",
       "      <td>Sun</td>\n",
       "      <td>Dinner</td>\n",
       "      <td>2</td>\n",
       "    </tr>\n",
       "    <tr>\n",
       "      <th>1</th>\n",
       "      <td>10.34</td>\n",
       "      <td>1.66</td>\n",
       "      <td>Male</td>\n",
       "      <td>No</td>\n",
       "      <td>Sun</td>\n",
       "      <td>Dinner</td>\n",
       "      <td>3</td>\n",
       "    </tr>\n",
       "    <tr>\n",
       "      <th>2</th>\n",
       "      <td>21.01</td>\n",
       "      <td>3.50</td>\n",
       "      <td>Male</td>\n",
       "      <td>No</td>\n",
       "      <td>Sun</td>\n",
       "      <td>Dinner</td>\n",
       "      <td>3</td>\n",
       "    </tr>\n",
       "    <tr>\n",
       "      <th>3</th>\n",
       "      <td>23.68</td>\n",
       "      <td>3.31</td>\n",
       "      <td>Male</td>\n",
       "      <td>No</td>\n",
       "      <td>Sun</td>\n",
       "      <td>Dinner</td>\n",
       "      <td>2</td>\n",
       "    </tr>\n",
       "    <tr>\n",
       "      <th>4</th>\n",
       "      <td>24.59</td>\n",
       "      <td>3.61</td>\n",
       "      <td>Female</td>\n",
       "      <td>No</td>\n",
       "      <td>Sun</td>\n",
       "      <td>Dinner</td>\n",
       "      <td>4</td>\n",
       "    </tr>\n",
       "    <tr>\n",
       "      <th>...</th>\n",
       "      <td>...</td>\n",
       "      <td>...</td>\n",
       "      <td>...</td>\n",
       "      <td>...</td>\n",
       "      <td>...</td>\n",
       "      <td>...</td>\n",
       "      <td>...</td>\n",
       "    </tr>\n",
       "    <tr>\n",
       "      <th>239</th>\n",
       "      <td>29.03</td>\n",
       "      <td>5.92</td>\n",
       "      <td>Male</td>\n",
       "      <td>No</td>\n",
       "      <td>Sat</td>\n",
       "      <td>Dinner</td>\n",
       "      <td>3</td>\n",
       "    </tr>\n",
       "    <tr>\n",
       "      <th>240</th>\n",
       "      <td>27.18</td>\n",
       "      <td>2.00</td>\n",
       "      <td>Female</td>\n",
       "      <td>Yes</td>\n",
       "      <td>Sat</td>\n",
       "      <td>Dinner</td>\n",
       "      <td>2</td>\n",
       "    </tr>\n",
       "    <tr>\n",
       "      <th>241</th>\n",
       "      <td>22.67</td>\n",
       "      <td>2.00</td>\n",
       "      <td>Male</td>\n",
       "      <td>Yes</td>\n",
       "      <td>Sat</td>\n",
       "      <td>Dinner</td>\n",
       "      <td>2</td>\n",
       "    </tr>\n",
       "    <tr>\n",
       "      <th>242</th>\n",
       "      <td>17.82</td>\n",
       "      <td>1.75</td>\n",
       "      <td>Male</td>\n",
       "      <td>No</td>\n",
       "      <td>Sat</td>\n",
       "      <td>Dinner</td>\n",
       "      <td>2</td>\n",
       "    </tr>\n",
       "    <tr>\n",
       "      <th>243</th>\n",
       "      <td>18.78</td>\n",
       "      <td>3.00</td>\n",
       "      <td>Female</td>\n",
       "      <td>No</td>\n",
       "      <td>Thur</td>\n",
       "      <td>Dinner</td>\n",
       "      <td>2</td>\n",
       "    </tr>\n",
       "  </tbody>\n",
       "</table>\n",
       "<p>244 rows × 7 columns</p>\n",
       "</div>"
      ],
      "text/plain": [
       "     total_bill   tip     sex smoker   day    time  size\n",
       "0         16.99  1.01  Female     No   Sun  Dinner     2\n",
       "1         10.34  1.66    Male     No   Sun  Dinner     3\n",
       "2         21.01  3.50    Male     No   Sun  Dinner     3\n",
       "3         23.68  3.31    Male     No   Sun  Dinner     2\n",
       "4         24.59  3.61  Female     No   Sun  Dinner     4\n",
       "..          ...   ...     ...    ...   ...     ...   ...\n",
       "239       29.03  5.92    Male     No   Sat  Dinner     3\n",
       "240       27.18  2.00  Female    Yes   Sat  Dinner     2\n",
       "241       22.67  2.00    Male    Yes   Sat  Dinner     2\n",
       "242       17.82  1.75    Male     No   Sat  Dinner     2\n",
       "243       18.78  3.00  Female     No  Thur  Dinner     2\n",
       "\n",
       "[244 rows x 7 columns]"
      ]
     },
     "execution_count": 6,
     "metadata": {},
     "output_type": "execute_result"
    }
   ],
   "source": [
    "df"
   ]
  },
  {
   "cell_type": "code",
   "execution_count": 7,
   "metadata": {},
   "outputs": [
    {
     "data": {
      "text/plain": [
       "2.99827868852459"
      ]
     },
     "execution_count": 7,
     "metadata": {},
     "output_type": "execute_result"
    }
   ],
   "source": [
    "np.mean(df['tip'])"
   ]
  },
  {
   "cell_type": "code",
   "execution_count": 8,
   "metadata": {},
   "outputs": [
    {
     "name": "stdout",
     "output_type": "stream",
     "text": [
      "<class 'pandas.core.frame.DataFrame'>\n",
      "RangeIndex: 244 entries, 0 to 243\n",
      "Data columns (total 7 columns):\n",
      " #   Column      Non-Null Count  Dtype   \n",
      "---  ------      --------------  -----   \n",
      " 0   total_bill  244 non-null    float64 \n",
      " 1   tip         244 non-null    float64 \n",
      " 2   sex         244 non-null    category\n",
      " 3   smoker      244 non-null    category\n",
      " 4   day         244 non-null    category\n",
      " 5   time        244 non-null    category\n",
      " 6   size        244 non-null    int64   \n",
      "dtypes: category(4), float64(2), int64(1)\n",
      "memory usage: 7.4 KB\n"
     ]
    }
   ],
   "source": [
    "df.info()"
   ]
  },
  {
   "cell_type": "markdown",
   "metadata": {},
   "source": [
    "# Median of data"
   ]
  },
  {
   "cell_type": "code",
   "execution_count": 9,
   "metadata": {},
   "outputs": [
    {
     "data": {
      "text/plain": [
       "2.9"
      ]
     },
     "execution_count": 9,
     "metadata": {},
     "output_type": "execute_result"
    }
   ],
   "source": [
    "# Median of data\n",
    "\n",
    "np.median(df['tip'])"
   ]
  },
  {
   "cell_type": "markdown",
   "metadata": {},
   "source": [
    "# Mean is inflated by outlier whereas median is not inflated"
   ]
  },
  {
   "cell_type": "code",
   "execution_count": 10,
   "metadata": {},
   "outputs": [
    {
     "data": {
      "text/plain": [
       "[1, 2, 3, 4, 500]"
      ]
     },
     "execution_count": 10,
     "metadata": {},
     "output_type": "execute_result"
    }
   ],
   "source": [
    "data = [1,2,3,4,500]\n",
    "data"
   ]
  },
  {
   "cell_type": "code",
   "execution_count": 11,
   "metadata": {},
   "outputs": [
    {
     "data": {
      "text/plain": [
       "102.0"
      ]
     },
     "execution_count": 11,
     "metadata": {},
     "output_type": "execute_result"
    }
   ],
   "source": [
    "# Mean is inflated by outlier \n",
    "\n",
    "np.mean(data)"
   ]
  },
  {
   "cell_type": "code",
   "execution_count": 12,
   "metadata": {},
   "outputs": [
    {
     "data": {
      "text/plain": [
       "3.0"
      ]
     },
     "execution_count": 12,
     "metadata": {},
     "output_type": "execute_result"
    }
   ],
   "source": [
    "# whereas median is not inflated\n",
    "\n",
    "np.median(data)"
   ]
  },
  {
   "cell_type": "markdown",
   "metadata": {},
   "source": [
    "# Mode of data"
   ]
  },
  {
   "cell_type": "code",
   "execution_count": 13,
   "metadata": {},
   "outputs": [
    {
     "data": {
      "text/plain": [
       "[1, 2, 1, 2, 100, 100, 100, 5, 4, 9, 100, 1, 20, 100, 100]"
      ]
     },
     "execution_count": 13,
     "metadata": {},
     "output_type": "execute_result"
    }
   ],
   "source": [
    "Mode_data  = [1,2,1,2,100,100,100,5,4,9,100,1,20,100,100]\n",
    "Mode_data"
   ]
  },
  {
   "cell_type": "code",
   "execution_count": 14,
   "metadata": {},
   "outputs": [],
   "source": [
    "import statistics as st"
   ]
  },
  {
   "cell_type": "code",
   "execution_count": 15,
   "metadata": {},
   "outputs": [
    {
     "data": {
      "text/plain": [
       "100"
      ]
     },
     "execution_count": 15,
     "metadata": {},
     "output_type": "execute_result"
    }
   ],
   "source": [
    "st.mode(Mode_data)"
   ]
  },
  {
   "cell_type": "code",
   "execution_count": 16,
   "metadata": {},
   "outputs": [
    {
     "data": {
      "text/html": [
       "<div>\n",
       "<style scoped>\n",
       "    .dataframe tbody tr th:only-of-type {\n",
       "        vertical-align: middle;\n",
       "    }\n",
       "\n",
       "    .dataframe tbody tr th {\n",
       "        vertical-align: top;\n",
       "    }\n",
       "\n",
       "    .dataframe thead th {\n",
       "        text-align: right;\n",
       "    }\n",
       "</style>\n",
       "<table border=\"1\" class=\"dataframe\">\n",
       "  <thead>\n",
       "    <tr style=\"text-align: right;\">\n",
       "      <th></th>\n",
       "      <th>total_bill</th>\n",
       "      <th>tip</th>\n",
       "      <th>sex</th>\n",
       "      <th>smoker</th>\n",
       "      <th>day</th>\n",
       "      <th>time</th>\n",
       "      <th>size</th>\n",
       "    </tr>\n",
       "  </thead>\n",
       "  <tbody>\n",
       "    <tr>\n",
       "      <th>0</th>\n",
       "      <td>16.99</td>\n",
       "      <td>1.01</td>\n",
       "      <td>Female</td>\n",
       "      <td>No</td>\n",
       "      <td>Sun</td>\n",
       "      <td>Dinner</td>\n",
       "      <td>2</td>\n",
       "    </tr>\n",
       "    <tr>\n",
       "      <th>1</th>\n",
       "      <td>10.34</td>\n",
       "      <td>1.66</td>\n",
       "      <td>Male</td>\n",
       "      <td>No</td>\n",
       "      <td>Sun</td>\n",
       "      <td>Dinner</td>\n",
       "      <td>3</td>\n",
       "    </tr>\n",
       "    <tr>\n",
       "      <th>2</th>\n",
       "      <td>21.01</td>\n",
       "      <td>3.50</td>\n",
       "      <td>Male</td>\n",
       "      <td>No</td>\n",
       "      <td>Sun</td>\n",
       "      <td>Dinner</td>\n",
       "      <td>3</td>\n",
       "    </tr>\n",
       "    <tr>\n",
       "      <th>3</th>\n",
       "      <td>23.68</td>\n",
       "      <td>3.31</td>\n",
       "      <td>Male</td>\n",
       "      <td>No</td>\n",
       "      <td>Sun</td>\n",
       "      <td>Dinner</td>\n",
       "      <td>2</td>\n",
       "    </tr>\n",
       "    <tr>\n",
       "      <th>4</th>\n",
       "      <td>24.59</td>\n",
       "      <td>3.61</td>\n",
       "      <td>Female</td>\n",
       "      <td>No</td>\n",
       "      <td>Sun</td>\n",
       "      <td>Dinner</td>\n",
       "      <td>4</td>\n",
       "    </tr>\n",
       "    <tr>\n",
       "      <th>...</th>\n",
       "      <td>...</td>\n",
       "      <td>...</td>\n",
       "      <td>...</td>\n",
       "      <td>...</td>\n",
       "      <td>...</td>\n",
       "      <td>...</td>\n",
       "      <td>...</td>\n",
       "    </tr>\n",
       "    <tr>\n",
       "      <th>239</th>\n",
       "      <td>29.03</td>\n",
       "      <td>5.92</td>\n",
       "      <td>Male</td>\n",
       "      <td>No</td>\n",
       "      <td>Sat</td>\n",
       "      <td>Dinner</td>\n",
       "      <td>3</td>\n",
       "    </tr>\n",
       "    <tr>\n",
       "      <th>240</th>\n",
       "      <td>27.18</td>\n",
       "      <td>2.00</td>\n",
       "      <td>Female</td>\n",
       "      <td>Yes</td>\n",
       "      <td>Sat</td>\n",
       "      <td>Dinner</td>\n",
       "      <td>2</td>\n",
       "    </tr>\n",
       "    <tr>\n",
       "      <th>241</th>\n",
       "      <td>22.67</td>\n",
       "      <td>2.00</td>\n",
       "      <td>Male</td>\n",
       "      <td>Yes</td>\n",
       "      <td>Sat</td>\n",
       "      <td>Dinner</td>\n",
       "      <td>2</td>\n",
       "    </tr>\n",
       "    <tr>\n",
       "      <th>242</th>\n",
       "      <td>17.82</td>\n",
       "      <td>1.75</td>\n",
       "      <td>Male</td>\n",
       "      <td>No</td>\n",
       "      <td>Sat</td>\n",
       "      <td>Dinner</td>\n",
       "      <td>2</td>\n",
       "    </tr>\n",
       "    <tr>\n",
       "      <th>243</th>\n",
       "      <td>18.78</td>\n",
       "      <td>3.00</td>\n",
       "      <td>Female</td>\n",
       "      <td>No</td>\n",
       "      <td>Thur</td>\n",
       "      <td>Dinner</td>\n",
       "      <td>2</td>\n",
       "    </tr>\n",
       "  </tbody>\n",
       "</table>\n",
       "<p>244 rows × 7 columns</p>\n",
       "</div>"
      ],
      "text/plain": [
       "     total_bill   tip     sex smoker   day    time  size\n",
       "0         16.99  1.01  Female     No   Sun  Dinner     2\n",
       "1         10.34  1.66    Male     No   Sun  Dinner     3\n",
       "2         21.01  3.50    Male     No   Sun  Dinner     3\n",
       "3         23.68  3.31    Male     No   Sun  Dinner     2\n",
       "4         24.59  3.61  Female     No   Sun  Dinner     4\n",
       "..          ...   ...     ...    ...   ...     ...   ...\n",
       "239       29.03  5.92    Male     No   Sat  Dinner     3\n",
       "240       27.18  2.00  Female    Yes   Sat  Dinner     2\n",
       "241       22.67  2.00    Male    Yes   Sat  Dinner     2\n",
       "242       17.82  1.75    Male     No   Sat  Dinner     2\n",
       "243       18.78  3.00  Female     No  Thur  Dinner     2\n",
       "\n",
       "[244 rows x 7 columns]"
      ]
     },
     "execution_count": 16,
     "metadata": {},
     "output_type": "execute_result"
    }
   ],
   "source": [
    "df"
   ]
  },
  {
   "cell_type": "markdown",
   "metadata": {},
   "source": [
    "# Describe Method"
   ]
  },
  {
   "cell_type": "code",
   "execution_count": 17,
   "metadata": {},
   "outputs": [
    {
     "data": {
      "text/html": [
       "<div>\n",
       "<style scoped>\n",
       "    .dataframe tbody tr th:only-of-type {\n",
       "        vertical-align: middle;\n",
       "    }\n",
       "\n",
       "    .dataframe tbody tr th {\n",
       "        vertical-align: top;\n",
       "    }\n",
       "\n",
       "    .dataframe thead th {\n",
       "        text-align: right;\n",
       "    }\n",
       "</style>\n",
       "<table border=\"1\" class=\"dataframe\">\n",
       "  <thead>\n",
       "    <tr style=\"text-align: right;\">\n",
       "      <th></th>\n",
       "      <th>total_bill</th>\n",
       "      <th>tip</th>\n",
       "      <th>size</th>\n",
       "    </tr>\n",
       "  </thead>\n",
       "  <tbody>\n",
       "    <tr>\n",
       "      <th>count</th>\n",
       "      <td>244.000000</td>\n",
       "      <td>244.000000</td>\n",
       "      <td>244.000000</td>\n",
       "    </tr>\n",
       "    <tr>\n",
       "      <th>mean</th>\n",
       "      <td>19.785943</td>\n",
       "      <td>2.998279</td>\n",
       "      <td>2.569672</td>\n",
       "    </tr>\n",
       "    <tr>\n",
       "      <th>std</th>\n",
       "      <td>8.902412</td>\n",
       "      <td>1.383638</td>\n",
       "      <td>0.951100</td>\n",
       "    </tr>\n",
       "    <tr>\n",
       "      <th>min</th>\n",
       "      <td>3.070000</td>\n",
       "      <td>1.000000</td>\n",
       "      <td>1.000000</td>\n",
       "    </tr>\n",
       "    <tr>\n",
       "      <th>25%</th>\n",
       "      <td>13.347500</td>\n",
       "      <td>2.000000</td>\n",
       "      <td>2.000000</td>\n",
       "    </tr>\n",
       "    <tr>\n",
       "      <th>50%</th>\n",
       "      <td>17.795000</td>\n",
       "      <td>2.900000</td>\n",
       "      <td>2.000000</td>\n",
       "    </tr>\n",
       "    <tr>\n",
       "      <th>75%</th>\n",
       "      <td>24.127500</td>\n",
       "      <td>3.562500</td>\n",
       "      <td>3.000000</td>\n",
       "    </tr>\n",
       "    <tr>\n",
       "      <th>max</th>\n",
       "      <td>50.810000</td>\n",
       "      <td>10.000000</td>\n",
       "      <td>6.000000</td>\n",
       "    </tr>\n",
       "  </tbody>\n",
       "</table>\n",
       "</div>"
      ],
      "text/plain": [
       "       total_bill         tip        size\n",
       "count  244.000000  244.000000  244.000000\n",
       "mean    19.785943    2.998279    2.569672\n",
       "std      8.902412    1.383638    0.951100\n",
       "min      3.070000    1.000000    1.000000\n",
       "25%     13.347500    2.000000    2.000000\n",
       "50%     17.795000    2.900000    2.000000\n",
       "75%     24.127500    3.562500    3.000000\n",
       "max     50.810000   10.000000    6.000000"
      ]
     },
     "execution_count": 17,
     "metadata": {},
     "output_type": "execute_result"
    }
   ],
   "source": [
    "df.describe()"
   ]
  },
  {
   "cell_type": "code",
   "execution_count": 18,
   "metadata": {},
   "outputs": [
    {
     "data": {
      "text/plain": [
       "[1, 2, 1, 2, 100, 100, 100, 5, 4, 9, 100, 1, 20, 100, 100]"
      ]
     },
     "execution_count": 18,
     "metadata": {},
     "output_type": "execute_result"
    }
   ],
   "source": [
    "Mode_data"
   ]
  },
  {
   "cell_type": "markdown",
   "metadata": {},
   "source": [
    "# Percentile of dataset"
   ]
  },
  {
   "cell_type": "code",
   "execution_count": 19,
   "metadata": {},
   "outputs": [
    {
     "data": {
      "text/plain": [
       "array([2.])"
      ]
     },
     "execution_count": 19,
     "metadata": {},
     "output_type": "execute_result"
    }
   ],
   "source": [
    "# 25th percentile\n",
    "\n",
    "np.percentile(Mode_data , [25])  "
   ]
  },
  {
   "cell_type": "code",
   "execution_count": 20,
   "metadata": {},
   "outputs": [
    {
     "data": {
      "text/plain": [
       "array([  2.,   9., 100., 100.])"
      ]
     },
     "execution_count": 20,
     "metadata": {},
     "output_type": "execute_result"
    }
   ],
   "source": [
    "# 25th , 50th , 75th , 100th percentile\n",
    "\n",
    "np.percentile(Mode_data , [25,50,75,100])  "
   ]
  },
  {
   "cell_type": "markdown",
   "metadata": {},
   "source": [
    "# Finding Outlier "
   ]
  },
  {
   "cell_type": "code",
   "execution_count": 21,
   "metadata": {},
   "outputs": [],
   "source": [
    "Mode_data.append(-800)"
   ]
  },
  {
   "cell_type": "code",
   "execution_count": 22,
   "metadata": {},
   "outputs": [],
   "source": [
    "Mode_data.append(800)"
   ]
  },
  {
   "cell_type": "code",
   "execution_count": 23,
   "metadata": {},
   "outputs": [
    {
     "data": {
      "text/plain": [
       "[1, 2, 1, 2, 100, 100, 100, 5, 4, 9, 100, 1, 20, 100, 100, -800, 800]"
      ]
     },
     "execution_count": 23,
     "metadata": {},
     "output_type": "execute_result"
    }
   ],
   "source": [
    "Mode_data"
   ]
  },
  {
   "cell_type": "code",
   "execution_count": 24,
   "metadata": {},
   "outputs": [
    {
     "data": {
      "text/plain": [
       "<Axes: >"
      ]
     },
     "execution_count": 24,
     "metadata": {},
     "output_type": "execute_result"
    },
    {
     "data": {
      "image/png": "[encoded data removed]",
      "text/plain": [
       "<Figure size 640x480 with 1 Axes>"
      ]
     },
     "metadata": {},
     "output_type": "display_data"
    }
   ],
   "source": [
    "sns.boxplot(Mode_data)"
   ]
  },
  {
   "cell_type": "markdown",
   "metadata": {},
   "source": [
    "# Variance of data"
   ]
  },
  {
   "cell_type": "code",
   "execution_count": 25,
   "metadata": {},
   "outputs": [
    {
     "data": {
      "text/plain": [
       "77415.34948096886"
      ]
     },
     "execution_count": 25,
     "metadata": {},
     "output_type": "execute_result"
    }
   ],
   "source": [
    "np.var(Mode_data)  # variance data"
   ]
  },
  {
   "cell_type": "markdown",
   "metadata": {},
   "source": [
    "# Standard deviation of data"
   ]
  },
  {
   "cell_type": "code",
   "execution_count": 26,
   "metadata": {},
   "outputs": [
    {
     "data": {
      "text/plain": [
       "278.23613978232385"
      ]
     },
     "execution_count": 26,
     "metadata": {},
     "output_type": "execute_result"
    }
   ],
   "source": [
    "np.std(Mode_data)  # Standard deviation"
   ]
  },
  {
   "cell_type": "code",
   "execution_count": 27,
   "metadata": {},
   "outputs": [
    {
     "data": {
      "text/plain": [
       "37.94117647058823"
      ]
     },
     "execution_count": 27,
     "metadata": {},
     "output_type": "execute_result"
    }
   ],
   "source": [
    "np.mean(Mode_data) # Mean data"
   ]
  },
  {
   "cell_type": "code",
   "execution_count": 28,
   "metadata": {},
   "outputs": [
    {
     "data": {
      "text/plain": [
       "82253.80882352941"
      ]
     },
     "execution_count": 28,
     "metadata": {},
     "output_type": "execute_result"
    }
   ],
   "source": [
    "st.variance(Mode_data)  # sample variance"
   ]
  },
  {
   "cell_type": "code",
   "execution_count": 29,
   "metadata": {},
   "outputs": [
    {
     "data": {
      "text/plain": [
       "77415.34948096886"
      ]
     },
     "execution_count": 29,
     "metadata": {},
     "output_type": "execute_result"
    }
   ],
   "source": [
    "st.pvariance(Mode_data) # population variance"
   ]
  },
  {
   "cell_type": "code",
   "execution_count": 30,
   "metadata": {},
   "outputs": [
    {
     "data": {
      "text/plain": [
       "286.7992482966603"
      ]
     },
     "execution_count": 30,
     "metadata": {},
     "output_type": "execute_result"
    }
   ],
   "source": [
    "st.stdev(Mode_data) # Standard deviation"
   ]
  },
  {
   "cell_type": "code",
   "execution_count": 31,
   "metadata": {},
   "outputs": [
    {
     "ename": "NameError",
     "evalue": "name 'statistics' is not defined",
     "output_type": "error",
     "traceback": [
      "\u001b[1;31m---------------------------------------------------------------------------\u001b[0m",
      "\u001b[1;31mNameError\u001b[0m                                 Traceback (most recent call last)",
      "Cell \u001b[1;32mIn[31], line 3\u001b[0m\n\u001b[0;32m      1\u001b[0m \u001b[38;5;28;01mimport\u001b[39;00m \u001b[38;5;21;01mmath\u001b[39;00m\n\u001b[1;32m----> 3\u001b[0m math\u001b[38;5;241m.\u001b[39msqrt(\u001b[43mstatistics\u001b[49m\u001b[38;5;241m.\u001b[39mpvariance(Mode_data)) \n",
      "\u001b[1;31mNameError\u001b[0m: name 'statistics' is not defined"
     ]
    }
   ],
   "source": [
    "import math\n",
    "\n",
    "math.sqrt(statistics.pvariance(Mode_data)) "
   ]
  },
  {
   "cell_type": "markdown",
   "metadata": {},
   "source": [
    "# correlation of data"
   ]
  },
  {
   "cell_type": "code",
   "execution_count": null,
   "metadata": {},
   "outputs": [
    {
     "data": {
      "text/html": [
       "<div>\n",
       "<style scoped>\n",
       "    .dataframe tbody tr th:only-of-type {\n",
       "        vertical-align: middle;\n",
       "    }\n",
       "\n",
       "    .dataframe tbody tr th {\n",
       "        vertical-align: top;\n",
       "    }\n",
       "\n",
       "    .dataframe thead th {\n",
       "        text-align: right;\n",
       "    }\n",
       "</style>\n",
       "<table border=\"1\" class=\"dataframe\">\n",
       "  <thead>\n",
       "    <tr style=\"text-align: right;\">\n",
       "      <th></th>\n",
       "      <th>total_bill</th>\n",
       "      <th>tip</th>\n",
       "      <th>size</th>\n",
       "    </tr>\n",
       "  </thead>\n",
       "  <tbody>\n",
       "    <tr>\n",
       "      <th>total_bill</th>\n",
       "      <td>1.000000</td>\n",
       "      <td>0.675734</td>\n",
       "      <td>0.598315</td>\n",
       "    </tr>\n",
       "    <tr>\n",
       "      <th>tip</th>\n",
       "      <td>0.675734</td>\n",
       "      <td>1.000000</td>\n",
       "      <td>0.489299</td>\n",
       "    </tr>\n",
       "    <tr>\n",
       "      <th>size</th>\n",
       "      <td>0.598315</td>\n",
       "      <td>0.489299</td>\n",
       "      <td>1.000000</td>\n",
       "    </tr>\n",
       "  </tbody>\n",
       "</table>\n",
       "</div>"
      ],
      "text/plain": [
       "            total_bill       tip      size\n",
       "total_bill    1.000000  0.675734  0.598315\n",
       "tip           0.675734  1.000000  0.489299\n",
       "size          0.598315  0.489299  1.000000"
      ]
     },
     "execution_count": 61,
     "metadata": {},
     "output_type": "execute_result"
    }
   ],
   "source": [
    "df.corr(numeric_only=True)"
   ]
  },
  {
   "cell_type": "code",
   "execution_count": null,
   "metadata": {},
   "outputs": [],
   "source": [
    "corr =  df.corr(numeric_only=True)"
   ]
  },
  {
   "cell_type": "code",
   "execution_count": null,
   "metadata": {},
   "outputs": [
    {
     "data": {
      "text/plain": [
       "<Axes: >"
      ]
     },
     "execution_count": 63,
     "metadata": {},
     "output_type": "execute_result"
    },
    {
     "data": {
      "image/png": "[encoded data removed]",
      "text/plain": [
       "<Figure size 640x480 with 2 Axes>"
      ]
     },
     "metadata": {},
     "output_type": "display_data"
    }
   ],
   "source": [
    "sns.heatmap(corr)"
   ]
  },
  {
   "cell_type": "markdown",
   "metadata": {},
   "source": [
    "# Covariance of data"
   ]
  },
  {
   "cell_type": "code",
   "execution_count": null,
   "metadata": {},
   "outputs": [],
   "source": [
    "covs =  df.cov(numeric_only=True)"
   ]
  },
  {
   "cell_type": "code",
   "execution_count": null,
   "metadata": {},
   "outputs": [
    {
     "name": "stderr",
     "output_type": "stream",
     "text": [
      "c:\\Users\\mdaza\\AppData\\Local\\Programs\\Python\\Python310\\lib\\site-packages\\seaborn\\_oldcore.py:1119: FutureWarning: use_inf_as_na option is deprecated and will be removed in a future version. Convert inf values to NaN before operating instead.\n",
      "  with pd.option_context('mode.use_inf_as_na', True):\n",
      "c:\\Users\\mdaza\\AppData\\Local\\Programs\\Python\\Python310\\lib\\site-packages\\seaborn\\_oldcore.py:1119: FutureWarning: use_inf_as_na option is deprecated and will be removed in a future version. Convert inf values to NaN before operating instead.\n",
      "  with pd.option_context('mode.use_inf_as_na', True):\n",
      "c:\\Users\\mdaza\\AppData\\Local\\Programs\\Python\\Python310\\lib\\site-packages\\seaborn\\_oldcore.py:1119: FutureWarning: use_inf_as_na option is deprecated and will be removed in a future version. Convert inf values to NaN before operating instead.\n",
      "  with pd.option_context('mode.use_inf_as_na', True):\n"
     ]
    },
    {
     "data": {
      "text/plain": [
       "<seaborn.axisgrid.PairGrid at 0x25b12bb2650>"
      ]
     },
     "execution_count": 68,
     "metadata": {},
     "output_type": "execute_result"
    },
    {
     "data": {
      "image/png": "[encoded data removed]",
      "text/plain": [
       "<Figure size 750x750 with 12 Axes>"
      ]
     },
     "metadata": {},
     "output_type": "display_data"
    }
   ],
   "source": [
    "sns.pairplot(covs)"
   ]
  },
  {
   "cell_type": "code",
   "execution_count": null,
   "metadata": {},
   "outputs": [
    {
     "data": {
      "text/plain": [
       "[1, 2, 1, 2, 100, 100, 100, 5, 4, 9, 100, 1, 20, 100, 100, 800, -800]"
      ]
     },
     "execution_count": 70,
     "metadata": {},
     "output_type": "execute_result"
    }
   ],
   "source": [
    "Mode_data"
   ]
  },
  {
   "cell_type": "code",
   "execution_count": 34,
   "metadata": {},
   "outputs": [
    {
     "name": "stderr",
     "output_type": "stream",
     "text": [
      "c:\\Users\\mdaza\\AppData\\Local\\Programs\\Python\\Python310\\lib\\site-packages\\seaborn\\_oldcore.py:1119: FutureWarning: use_inf_as_na option is deprecated and will be removed in a future version. Convert inf values to NaN before operating instead.\n",
      "  with pd.option_context('mode.use_inf_as_na', True):\n"
     ]
    },
    {
     "data": {
      "text/plain": [
       "<Axes: ylabel='Count'>"
      ]
     },
     "execution_count": 34,
     "metadata": {},
     "output_type": "execute_result"
    },
    {
     "data": {
      "image/png": "[encoded data removed]",
      "text/plain": [
       "<Figure size 640x480 with 1 Axes>"
      ]
     },
     "metadata": {},
     "output_type": "display_data"
    }
   ],
   "source": [
    "sns.histplot(Mode_data)"
   ]
  },
  {
   "cell_type": "code",
   "execution_count": 33,
   "metadata": {},
   "outputs": [
    {
     "name": "stderr",
     "output_type": "stream",
     "text": [
      "c:\\Users\\mdaza\\AppData\\Local\\Programs\\Python\\Python310\\lib\\site-packages\\seaborn\\_oldcore.py:1119: FutureWarning: use_inf_as_na option is deprecated and will be removed in a future version. Convert inf values to NaN before operating instead.\n",
      "  with pd.option_context('mode.use_inf_as_na', True):\n"
     ]
    },
    {
     "data": {
      "text/plain": [
       "<Axes: ylabel='Count'>"
      ]
     },
     "execution_count": 33,
     "metadata": {},
     "output_type": "execute_result"
    },
    {
     "data": {
      "image/png": "[encoded data removed]",
      "text/plain": [
       "<Figure size 640x480 with 1 Axes>"
      ]
     },
     "metadata": {},
     "output_type": "display_data"
    }
   ],
   "source": [
    "sns.histplot(Mode_data , kde=True)"
   ]
  },
  {
   "cell_type": "code",
   "execution_count": 38,
   "metadata": {},
   "outputs": [
    {
     "name": "stderr",
     "output_type": "stream",
     "text": [
      "c:\\Users\\mdaza\\AppData\\Local\\Programs\\Python\\Python310\\lib\\site-packages\\seaborn\\_oldcore.py:1119: FutureWarning: use_inf_as_na option is deprecated and will be removed in a future version. Convert inf values to NaN before operating instead.\n",
      "  with pd.option_context('mode.use_inf_as_na', True):\n"
     ]
    },
    {
     "data": {
      "text/plain": [
       "<Axes: xlabel='total_bill', ylabel='Count'>"
      ]
     },
     "execution_count": 38,
     "metadata": {},
     "output_type": "execute_result"
    },
    {
     "data": {
      "image/png": "[encoded data removed]",
      "text/plain": [
       "<Figure size 640x480 with 1 Axes>"
      ]
     },
     "metadata": {},
     "output_type": "display_data"
    }
   ],
   "source": [
    "sns.histplot(df['total_bill'])"
   ]
  },
  {
   "cell_type": "code",
   "execution_count": 37,
   "metadata": {},
   "outputs": [
    {
     "name": "stderr",
     "output_type": "stream",
     "text": [
      "c:\\Users\\mdaza\\AppData\\Local\\Programs\\Python\\Python310\\lib\\site-packages\\seaborn\\_oldcore.py:1119: FutureWarning: use_inf_as_na option is deprecated and will be removed in a future version. Convert inf values to NaN before operating instead.\n",
      "  with pd.option_context('mode.use_inf_as_na', True):\n"
     ]
    },
    {
     "data": {
      "text/plain": [
       "<Axes: xlabel='total_bill', ylabel='Count'>"
      ]
     },
     "execution_count": 37,
     "metadata": {},
     "output_type": "execute_result"
    },
    {
     "data": {
      "image/png": "[encoded data removed]",
      "text/plain": [
       "<Figure size 640x480 with 1 Axes>"
      ]
     },
     "metadata": {},
     "output_type": "display_data"
    }
   ],
   "source": [
    "sns.histplot(df['total_bill'], kde=True)"
   ]
  },
  {
   "cell_type": "code",
   "execution_count": 39,
   "metadata": {},
   "outputs": [
    {
     "name": "stderr",
     "output_type": "stream",
     "text": [
      "C:\\Users\\mdaza\\AppData\\Local\\Temp\\ipykernel_18396\\1005607836.py:1: UserWarning: \n",
      "\n",
      "`distplot` is a deprecated function and will be removed in seaborn v0.14.0.\n",
      "\n",
      "Please adapt your code to use either `displot` (a figure-level function with\n",
      "similar flexibility) or `histplot` (an axes-level function for histograms).\n",
      "\n",
      "For a guide to updating your code to use the new functions, please see\n",
      "https://gist.github.com/mwaskom/de44147ed2974457ad6372750bbe5751\n",
      "\n",
      "  sns.distplot(df['total_bill'], kde=True)\n",
      "c:\\Users\\mdaza\\AppData\\Local\\Programs\\Python\\Python310\\lib\\site-packages\\seaborn\\_oldcore.py:1119: FutureWarning: use_inf_as_na option is deprecated and will be removed in a future version. Convert inf values to NaN before operating instead.\n",
      "  with pd.option_context('mode.use_inf_as_na', True):\n"
     ]
    },
    {
     "data": {
      "text/plain": [
       "<Axes: xlabel='total_bill', ylabel='Density'>"
      ]
     },
     "execution_count": 39,
     "metadata": {},
     "output_type": "execute_result"
    },
    {
     "data": {
      "image/png": "[encoded data removed]",
      "text/plain": [
       "<Figure size 640x480 with 1 Axes>"
      ]
     },
     "metadata": {},
     "output_type": "display_data"
    }
   ],
   "source": [
    "sns.distplot(df['total_bill'], kde=True)"
   ]
  },
  {
   "cell_type": "markdown",
   "metadata": {},
   "source": [
    "# Normal Distribution data"
   ]
  },
  {
   "cell_type": "code",
   "execution_count": 42,
   "metadata": {},
   "outputs": [
    {
     "data": {
      "text/plain": [
       "array([ 0.53416621,  0.64855082,  0.39156356,  0.5761995 ,  0.56603151,\n",
       "        0.7311424 ,  0.51911748,  0.36433643,  0.26074149,  0.24493743,\n",
       "        0.16395457,  0.45144991,  0.69449628,  0.39910689,  0.63823887,\n",
       "        0.618708  ,  0.39549574,  0.59355045,  0.57480343,  0.99198864,\n",
       "        0.60914267,  1.0406262 ,  0.56699808,  0.3759082 ,  0.39575142,\n",
       "        0.37742356,  0.21725253,  0.13156244,  0.42754462,  0.56317159,\n",
       "        0.53548122,  0.73944306,  0.38126516,  0.55339454,  0.27806629,\n",
       "        0.50605912,  0.10735051,  0.66474989,  0.56672688,  0.25928037,\n",
       "        0.55082256,  0.46924212,  0.55610917,  0.45850626,  0.49001439,\n",
       "        1.00157341,  0.37099569,  0.71221564,  0.81076524,  0.44279208,\n",
       "        0.4807219 ,  0.60400281,  0.42928616,  0.45230073,  0.54084259,\n",
       "        0.77079426,  0.26014603,  0.69003962,  0.41755015,  0.82931929,\n",
       "        0.36207221,  0.56927528,  0.16257943,  0.66186791,  0.61796564,\n",
       "        0.81107031,  0.79594484,  0.37342869,  0.66143512,  0.14300373,\n",
       "        0.61060931,  0.31074887,  0.25806507,  0.44744309,  0.44677024,\n",
       "        0.371954  ,  0.52191562,  0.43183524,  0.62302076,  0.38766875,\n",
       "        0.59698067,  0.36773022,  0.28182506,  0.61432495,  0.55679998,\n",
       "        0.34033708,  0.17598242,  0.55106057,  0.40423502,  0.63845442,\n",
       "        0.52845364,  0.65958937,  0.51642343,  0.46799132,  0.41245607,\n",
       "        0.78331626,  0.37939327,  0.49676632,  0.55275172,  0.18119195,\n",
       "        0.68553686,  0.67872424,  0.31091402,  0.43873206,  0.5707222 ,\n",
       "        0.38985675,  0.47077906,  0.29199207,  0.52570312,  0.56714247,\n",
       "        0.39180531,  0.27218231,  0.65936916,  0.41010859,  0.70275875,\n",
       "        0.56281252,  0.42876623,  0.46434967,  0.74887134,  0.33354835,\n",
       "        0.57339601,  0.44379605,  0.72833717,  0.53677071,  0.53504214,\n",
       "        0.73365681,  0.82941471,  0.3788856 ,  0.535736  ,  0.43353751,\n",
       "        0.90034726,  0.42906771,  0.61628502,  0.47256606,  0.3070198 ,\n",
       "        0.41951624,  0.34376181,  0.51530836,  0.71901596,  0.26651057,\n",
       "        0.08287436,  0.2115225 ,  0.78927441,  0.61681974,  0.74936188,\n",
       "        0.67976126,  0.5120248 ,  0.6677126 ,  0.83599624,  0.33060322,\n",
       "        0.58144442,  0.21422382,  0.57956533,  0.6755674 ,  0.31246398,\n",
       "        0.39982468,  0.23496238,  0.42596286,  0.72198277,  0.71279999,\n",
       "        0.81356443,  0.21105716,  0.68749968,  0.10581708,  0.38460807,\n",
       "        0.18446404,  0.60593314,  0.2775665 ,  0.41412565,  0.63028622,\n",
       "        0.25500511,  0.5176236 ,  0.1078594 ,  0.21551096,  0.43821923,\n",
       "        0.14509108,  0.92138222,  0.72947032,  0.71310914,  0.42300242,\n",
       "        0.48443588,  0.5051334 ,  0.68879965,  0.56559474,  0.61051494,\n",
       "        0.44029384,  0.5878017 ,  0.28023014,  0.60131815,  0.11479346,\n",
       "        0.57538064,  0.56050245,  0.76097829,  0.303414  ,  0.84256979,\n",
       "        0.60721442,  0.55010068,  0.47324009,  0.37216478,  0.25058452,\n",
       "        0.41235903,  0.55313745,  0.42890802,  0.49348223,  0.68063105,\n",
       "        0.48132616,  0.66378123,  0.12500982,  0.74820176,  0.83671638,\n",
       "        0.2229173 ,  0.59793357,  0.77038769,  0.4257342 ,  0.47817701,\n",
       "        0.55155288,  0.52122675,  0.71156462,  0.50868349,  0.64590857,\n",
       "        0.34281299,  0.15562141,  0.39325704,  0.71247449,  0.26429411,\n",
       "        0.30412513,  0.48708658,  0.61818432,  0.64186304,  0.67691161,\n",
       "        0.52487319,  0.31698526,  0.30986158,  0.68382924,  0.24061813,\n",
       "        0.6939776 ,  0.49103066,  0.35946734,  0.49464299,  0.32509297,\n",
       "        0.60654906,  0.38377296,  0.17519265,  0.70766779,  0.71234911,\n",
       "        0.57687243,  0.53771837,  0.4358538 ,  0.64720789,  0.87546261,\n",
       "        0.97312391,  0.81163834,  0.00361999,  0.65236225,  0.64292686,\n",
       "        0.57134496,  0.83440726,  0.45477277,  0.63825926,  0.44503255,\n",
       "        0.58473271,  0.45174135,  0.64033082,  0.50644481,  0.64747382,\n",
       "        0.35861423,  0.53569182,  0.50012598,  0.49071208,  0.29692801,\n",
       "        0.24936976,  0.43650713,  0.38662973,  0.53427359,  0.32636825,\n",
       "        0.67913424,  0.55103308,  0.61565015,  0.64843882,  0.4950411 ,\n",
       "        0.18337084,  0.201384  ,  0.70010318,  0.64793284,  0.39569226,\n",
       "        0.34379901,  0.52241931,  0.92672344,  0.12688808,  0.55384122,\n",
       "        0.66026151,  0.41995743,  0.35857875,  0.22557746,  0.58192598,\n",
       "        0.5938315 ,  0.52879994,  0.85884426,  0.74714029,  0.16163013,\n",
       "        0.68377856,  0.56194969,  0.39911952,  0.62431839,  0.48072   ,\n",
       "        0.40429579,  0.59566593,  0.94744973,  0.61553503,  0.4736762 ,\n",
       "        0.76977148,  0.5565738 ,  0.69877941,  0.59816006,  0.36883297,\n",
       "        0.07189906,  0.45566258,  0.34756871,  0.94812607,  0.34602406,\n",
       "        0.50100181,  0.42733349,  0.24339188,  0.60740612,  0.45679879,\n",
       "        0.52445125,  0.61748982,  0.61571631,  0.45804075,  0.29057561,\n",
       "        0.69876875,  0.32496879,  0.53798448,  0.53382331,  0.30270928,\n",
       "        0.37790073,  0.28045431,  0.22225406,  0.46762356,  0.65336414,\n",
       "        0.66818094,  0.20853566,  0.43687099,  0.10590178,  0.33056079,\n",
       "        0.78502542,  0.40191271,  0.28787687,  0.43028956,  0.25044076,\n",
       "       -0.00831429,  0.32352717,  0.74160289,  0.42963612,  0.49224103,\n",
       "        0.77984575,  0.67069586,  0.21216616,  0.62553178,  0.32091006,\n",
       "        0.37907428,  0.40448048,  0.65000057,  0.56040986,  0.17872952,\n",
       "        0.62857302,  0.34939889,  0.33562214,  0.62248173,  0.26545274,\n",
       "        0.66738953,  0.24322116,  0.53935077,  0.42126736,  0.7369786 ,\n",
       "        0.69937064,  0.47583854,  0.5537289 ,  0.69265177,  0.59542996,\n",
       "        0.51673566,  0.23375747,  0.34856032,  0.72096001,  0.05383388,\n",
       "        0.59165355,  0.5667046 ,  0.39778615,  0.68852513,  0.74244985,\n",
       "        0.4895638 ,  0.37517127,  0.46272546,  0.36581662,  0.65119742,\n",
       "        0.64406116,  0.32514304,  0.47092284,  0.4256351 ,  0.06008939,\n",
       "        0.21648834,  0.58551985,  0.16201235,  0.61405061,  0.58368864,\n",
       "        0.54481528,  0.51192208,  0.29274541,  0.26770923,  0.47046779,\n",
       "        0.2105608 ,  0.27769933,  0.16351358,  0.44907115,  0.50536847,\n",
       "        0.66523753,  0.49530707,  0.54468904,  0.32377981,  0.27733714,\n",
       "        0.73467761,  0.35814304,  0.35387515,  0.66511516,  0.56159732,\n",
       "        0.47752924,  0.7634132 ,  0.32646566,  0.45687935,  0.43592804,\n",
       "        0.77523661,  0.4291771 ,  0.29963571,  0.68720578,  0.46697871,\n",
       "        0.19646021,  0.40099176,  0.1248904 ,  0.9942967 ,  0.43565803,\n",
       "        0.62760863,  0.60475357,  0.37610473,  0.13601677,  0.45790031,\n",
       "        0.38140401,  0.52882392,  0.42428295,  0.52437072,  0.18526766,\n",
       "        0.13106096,  0.74059564,  0.3476177 ,  0.34721031,  0.93977905,\n",
       "        0.72800678,  0.51247576,  0.39654885,  0.6356707 ,  0.31094244,\n",
       "        0.63492776,  0.55769488,  0.57935947,  0.62841366,  0.3683557 ,\n",
       "        0.56260482,  0.79790853,  0.49625959,  0.55261242,  0.54937359,\n",
       "        0.29223322,  0.54616824,  0.47117155,  0.567177  ,  0.39925388,\n",
       "        0.61393617,  0.38461909,  0.61726047,  0.54400943,  0.09332683,\n",
       "        0.74197233,  0.44869737,  0.58592965,  0.41807573,  0.53438508,\n",
       "        0.59976242,  0.73227505,  0.26826704,  0.58891939,  0.18157749,\n",
       "        0.55894801,  0.40051231,  0.40347493,  0.53063718,  0.48349903,\n",
       "        0.3834556 ,  0.90585262,  0.91225292,  0.56518241,  0.41744095,\n",
       "        0.34684755,  0.19169476,  0.29617233,  0.57497394,  0.58738557,\n",
       "        0.78979642,  0.24122794,  0.47736746,  0.39966306,  0.35294987,\n",
       "        0.37999648,  0.47086023,  0.39460834,  0.47092288,  0.90601277,\n",
       "        0.01403262,  0.26448875,  0.56775608,  0.37511444,  0.28838662,\n",
       "        0.43609394,  0.13551986,  0.35161796,  0.5273985 ,  0.43044504,\n",
       "        0.74764582,  0.76838368,  0.54483161,  0.56822016,  0.58586409,\n",
       "       -0.0846952 ,  0.18596574,  0.46195591,  0.39754082,  1.23685647,\n",
       "        0.03816636,  0.39354891,  0.3036758 ,  0.3115514 ,  0.35035674,\n",
       "        0.57307021,  0.27326808,  0.05871325,  0.47192269,  0.64391177,\n",
       "        0.51777648,  0.40141244,  0.83845508,  0.48463394,  0.47304702,\n",
       "        0.46929249,  0.70916147,  0.37393855,  0.83798693,  0.46309596,\n",
       "        0.42025595,  0.22364115,  0.81069979,  0.58451616,  0.56355818,\n",
       "        0.38147786,  0.69486472,  0.79549535,  0.10671388,  0.57533088,\n",
       "        0.63643802,  0.65739239,  0.16239242,  0.61630846,  0.55742568,\n",
       "        0.30890134,  0.2659537 ,  0.49838796,  0.43630399,  0.48741917,\n",
       "        0.27031809,  0.74870017,  0.29279983,  0.75159311,  0.23900854,\n",
       "        0.47790291,  0.39133089,  0.52233758, -0.01465765,  0.46032709,\n",
       "        0.90247366,  0.7568883 ,  0.56184699,  0.62656576,  0.51473001,\n",
       "        0.53566217,  0.38258394,  0.66660767,  0.75058778,  0.19377024,\n",
       "        0.40726098,  0.24912727,  0.37103335,  0.46195077,  0.58171894,\n",
       "        0.56110007,  0.9321216 ,  0.74137426,  0.49088271,  0.37061045,\n",
       "        0.37348025,  0.43977317,  0.49679249,  0.49249595,  0.75398106,\n",
       "        0.6517216 ,  0.60756868,  0.45285733,  0.71235097,  0.68262782,\n",
       "        0.45070189,  0.26098896,  0.33333024,  0.4034467 ,  0.84779936,\n",
       "        0.65263263,  0.35012671,  0.43327467,  0.37920551,  0.54202929,\n",
       "        0.27586398,  0.26881277,  0.47922666,  0.51619476,  0.18056745,\n",
       "        0.45115759,  0.24393762,  0.0175719 ,  0.60559706,  0.4503919 ,\n",
       "        0.341725  ,  0.26323356,  0.62167313,  0.59578032,  0.32503394,\n",
       "        0.47965593,  0.79097674,  0.41138338,  0.51500533,  0.40504347,\n",
       "        0.63224286,  0.24269229,  0.59186474,  0.60666913, -0.00916634,\n",
       "        0.20750258,  0.38642145,  0.3957978 ,  0.53589691,  0.28151461,\n",
       "        0.45612059,  0.39233086,  0.71643625,  0.52024014,  0.36193011,\n",
       "        0.60129377,  0.43795839,  0.32518099,  0.79377795,  0.82944696,\n",
       "        0.71991643,  0.51325989,  0.90608552,  0.50135696,  0.91311128,\n",
       "       -0.04392586,  0.47068471,  0.7249204 ,  0.58525527,  0.47181143,\n",
       "        0.52104561,  0.55127751,  0.42536252,  1.01375926,  0.96535685,\n",
       "        0.67413181,  0.64858896,  0.56504057,  0.48975267,  0.76050073,\n",
       "        0.67734869,  0.48653163,  0.69507295,  0.32838588,  0.9080587 ,\n",
       "        0.58340613,  0.55201775,  0.66258287,  0.32707562,  0.44058433,\n",
       "        0.41251195,  0.90963358,  0.32659149,  0.7765526 ,  0.35449985,\n",
       "        0.61861012,  0.45934584,  0.33335425,  0.37016858,  0.71842919,\n",
       "        0.68320683,  0.43976251,  0.65411199,  0.37171266,  0.75013396,\n",
       "        0.32711376,  0.29920481,  0.63650435,  0.49644622,  0.46192754,\n",
       "        0.40451001,  0.34252681,  0.51419257,  0.64551504,  0.82422841,\n",
       "        0.43609408,  0.45756775,  0.50138724,  0.6641596 ,  0.6661919 ,\n",
       "        0.36509404,  0.09829587,  0.60189363,  0.49155102,  0.56995277,\n",
       "        0.06627306,  0.64548162,  0.42554417,  0.59818078,  0.59782745,\n",
       "        0.76343446,  0.54468678,  0.64832157,  0.31222406,  0.87711906,\n",
       "        0.37437388,  0.26940183,  0.06688012,  0.52648052,  0.36182047,\n",
       "        0.72995264,  0.28070725,  0.38229599,  0.35566338,  0.72879854,\n",
       "        0.57787273,  0.36399729,  0.47590615,  0.36723512,  0.63753973,\n",
       "        0.36404506,  0.67939034,  0.30247806,  0.30857279,  0.12718288,\n",
       "        0.72460936,  0.49261968,  0.27003173,  0.28192182,  0.47314577,\n",
       "        0.25945541,  0.42032678,  0.53481928,  0.67442177,  0.05956409,\n",
       "        0.37948755,  0.45177893,  0.16819716,  0.47197582,  0.50798899,\n",
       "        1.0168644 ,  0.33057996,  0.40956462,  0.61343498,  0.44325705,\n",
       "        0.84143424,  0.47117333,  0.77652572,  1.15849129,  0.28043942,\n",
       "        0.65999674,  0.54701201,  0.51526516,  0.63587444,  0.14810196,\n",
       "        0.18847593,  0.01296051,  0.40328648,  0.51725334,  0.61805466,\n",
       "        0.39967744,  0.59600162,  0.69840844,  0.53166701,  0.56579302,\n",
       "        0.61073839,  0.35892033,  0.67930992,  0.15983595,  0.53860463,\n",
       "        0.35791148,  0.23043934,  0.70557241,  0.33139101,  0.05035839,\n",
       "        0.39111741,  0.71358932,  0.34905276,  0.44253089,  0.64696145,\n",
       "        0.92132794,  0.88874283,  0.3674993 ,  0.2653731 ,  0.12745083,\n",
       "        0.66337664,  0.59258594,  0.52404387,  0.23856492,  0.61094096,\n",
       "        0.20720839,  0.14431514,  0.14125371,  0.31355339,  0.4833476 ,\n",
       "        0.61812224,  0.68707797,  0.56312297,  0.33551941,  0.22374613,\n",
       "        0.43808457,  0.58886938,  0.71468857,  0.6742358 ,  0.11475855,\n",
       "        0.48802473,  0.67825531,  0.2949678 ,  0.3695247 ,  0.62735423,\n",
       "        0.3345378 ,  0.06561359,  0.69794507,  0.678874  ,  0.27414193,\n",
       "        0.59891918,  0.61395372,  0.6481718 ,  0.40824515,  0.57348473,\n",
       "        0.45459251,  0.7210145 ,  0.34527275,  0.31054011,  0.88979879,\n",
       "        0.30803097,  0.24587058,  0.3675704 ,  0.6631787 ,  0.44235801,\n",
       "        0.27567165,  0.31906824,  0.68868934,  0.56269646,  0.39465568,\n",
       "        0.43848035,  0.32866285,  0.55059186,  0.34188181,  0.73979949,\n",
       "        0.66357445,  0.53683109,  0.56251232,  0.19810154,  0.25210622,\n",
       "        0.41571759,  0.80494328,  0.56416202,  0.58113736,  0.67308555,\n",
       "        0.49974718,  0.66276116,  0.51948228,  0.38948319,  0.51428562,\n",
       "        0.39767093,  0.26597814,  0.76052953,  0.27486959,  0.38832177,\n",
       "        0.36187529,  0.45234682,  0.64988288,  0.39393503,  0.30462775,\n",
       "        0.32193333,  0.42277188,  0.61612771,  0.43656354,  0.9617401 ,\n",
       "        0.76876192,  0.64720252,  0.26690922,  0.39581252,  0.41959572,\n",
       "        0.17541322,  0.70852484,  0.82223711,  0.44922792,  0.57677602,\n",
       "        0.65210379,  0.33300636,  1.00071868,  0.45831056,  0.81615102,\n",
       "        0.32128041,  0.72610256,  0.36892142,  0.58609156,  0.6012873 ,\n",
       "        0.78602615,  0.61318344,  0.80022627,  0.33555015,  0.619292  ,\n",
       "        0.79064356,  0.05520447,  0.46098786,  0.37496486,  0.70011664,\n",
       "        0.20404021,  0.72736536,  0.28202391, -0.07050875,  0.31192188,\n",
       "        0.56935958,  0.11693679,  0.54016573,  0.37732312,  0.76389851,\n",
       "        0.49068528,  0.60659145,  0.53631554,  0.29560284,  0.21718972,\n",
       "        0.69489354,  0.11163618,  0.40698316,  0.54666719,  0.38984413,\n",
       "        0.31609192,  0.44264762,  0.61373574,  0.20730665,  0.34018076,\n",
       "        0.52127037,  0.46647609,  0.80119298,  0.79675239,  0.73977384,\n",
       "        0.41815313,  0.77573573,  0.45860681,  0.58042894,  0.5484674 ,\n",
       "        0.66511731,  0.45229666,  0.46336163,  0.50729728,  0.43312061,\n",
       "        0.48126255,  0.62246582,  0.38555025,  0.65237989,  0.44149569,\n",
       "        0.54806127,  1.09143054,  0.3300538 ,  0.76200108,  0.91862629,\n",
       "        0.44339821,  0.72084107,  0.93982693,  0.58651775,  0.47331175,\n",
       "        0.62129566,  0.74630752,  0.4610547 ,  0.39473619,  0.48778329,\n",
       "        0.58666007,  0.16604351,  0.3648343 ,  0.73063602,  0.42423296])"
      ]
     },
     "execution_count": 42,
     "metadata": {},
     "output_type": "execute_result"
    }
   ],
   "source": [
    "\n",
    "# Normal Distribution data\n",
    "\n",
    "np.random.normal(0.5,0.2,1000)"
   ]
  },
  {
   "cell_type": "code",
   "execution_count": 44,
   "metadata": {},
   "outputs": [],
   "source": [
    "var = np.random.normal(0.5,0.2,1000)"
   ]
  },
  {
   "cell_type": "code",
   "execution_count": 46,
   "metadata": {},
   "outputs": [
    {
     "name": "stderr",
     "output_type": "stream",
     "text": [
      "c:\\Users\\mdaza\\AppData\\Local\\Programs\\Python\\Python310\\lib\\site-packages\\seaborn\\_oldcore.py:1119: FutureWarning: use_inf_as_na option is deprecated and will be removed in a future version. Convert inf values to NaN before operating instead.\n",
      "  with pd.option_context('mode.use_inf_as_na', True):\n"
     ]
    },
    {
     "data": {
      "text/plain": [
       "<Axes: ylabel='Count'>"
      ]
     },
     "execution_count": 46,
     "metadata": {},
     "output_type": "execute_result"
    },
    {
     "data": {
      "image/png": "[encoded data removed]",
      "text/plain": [
       "<Figure size 640x480 with 1 Axes>"
      ]
     },
     "metadata": {},
     "output_type": "display_data"
    }
   ],
   "source": [
    "sns.histplot(var , kde=True)"
   ]
  },
  {
   "cell_type": "code",
   "execution_count": 47,
   "metadata": {},
   "outputs": [
    {
     "name": "stderr",
     "output_type": "stream",
     "text": [
      "C:\\Users\\mdaza\\AppData\\Local\\Temp\\ipykernel_18396\\3990243957.py:1: UserWarning: \n",
      "\n",
      "`distplot` is a deprecated function and will be removed in seaborn v0.14.0.\n",
      "\n",
      "Please adapt your code to use either `displot` (a figure-level function with\n",
      "similar flexibility) or `histplot` (an axes-level function for histograms).\n",
      "\n",
      "For a guide to updating your code to use the new functions, please see\n",
      "https://gist.github.com/mwaskom/de44147ed2974457ad6372750bbe5751\n",
      "\n",
      "  sns.distplot(var , kde=True)\n",
      "c:\\Users\\mdaza\\AppData\\Local\\Programs\\Python\\Python310\\lib\\site-packages\\seaborn\\_oldcore.py:1119: FutureWarning: use_inf_as_na option is deprecated and will be removed in a future version. Convert inf values to NaN before operating instead.\n",
      "  with pd.option_context('mode.use_inf_as_na', True):\n"
     ]
    },
    {
     "data": {
      "text/plain": [
       "<Axes: ylabel='Density'>"
      ]
     },
     "execution_count": 47,
     "metadata": {},
     "output_type": "execute_result"
    },
    {
     "data": {
      "image/png": "[encoded data removed]",
      "text/plain": [
       "<Figure size 640x480 with 1 Axes>"
      ]
     },
     "metadata": {},
     "output_type": "display_data"
    }
   ],
   "source": [
    "sns.distplot(var , kde=True)"
   ]
  }
 ],
 "metadata": {
  "kernelspec": {
   "display_name": "Python 3",
   "language": "python",
   "name": "python3"
  },
  "language_info": {
   "codemirror_mode": {
    "name": "ipython",
    "version": 3
   },
   "file_extension": ".py",
   "mimetype": "text/x-python",
   "name": "python",
   "nbconvert_exporter": "python",
   "pygments_lexer": "ipython3",
   "version": "3.10.7"
  }
 },
 "nbformat": 4,
 "nbformat_minor": 2
}
